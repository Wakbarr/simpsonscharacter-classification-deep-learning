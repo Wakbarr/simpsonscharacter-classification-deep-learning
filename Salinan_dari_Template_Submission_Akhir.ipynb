{
  "cells": [
    {
      "cell_type": "markdown",
      "source": [
        "# Proyek Klasifikasi Gambar : The Simpsons Characters Data\n",
        "\n",
        "- **Nama:** Akbar Widianto\n",
        "- **Email:** wdntoakbar@gmail.com\n",
        "- **ID Dicoding:** wakbarr"
      ],
      "metadata": {
        "id": "CBTE5Bf1c4v8"
      }
    },
    {
      "cell_type": "markdown",
      "source": [
        "## Import semua pakage / Library yang digunakan"
      ],
      "metadata": {
        "id": "TDp-FACudU9C"
      }
    },
    {
      "cell_type": "code",
      "source": [
        "import os\n",
        "import zipfile\n",
        "import gdown\n",
        "import tensorflow as tf\n",
        "from tensorflow.keras.preprocessing.image import ImageDataGenerator\n",
        "from tensorflow.keras.models import Sequential\n",
        "from tensorflow.keras.layers import Conv2D, MaxPooling2D, GlobalAveragePooling2D, Dense, Dropout, BatchNormalization\n",
        "from tensorflow.keras.callbacks import EarlyStopping, ReduceLROnPlateau, ModelCheckpoint\n",
        "import matplotlib.pyplot as plt\n",
        "from collections import Counter\n",
        "import tensorflowjs as tfjs"
      ],
      "metadata": {
        "id": "tKq5RJhsDGBr",
        "colab": {
          "base_uri": "https://localhost:8080/",
          "height": 166
        },
        "outputId": "db8e9f61-d541-498b-d87c-9f5677d3d56e"
      },
      "execution_count": 2,
      "outputs": [
        {
          "output_type": "display_data",
          "data": {
            "text/plain": [
              "<IPython.core.display.HTML object>"
            ],
            "text/html": [
              "\n",
              "<p style=\"margin:0px;\">🌲 Try <a href=\"https://ydf.readthedocs.io/en/latest/\" target=\"_blank\">YDF</a>, the successor of\n",
              "    <a href=\"https://www.tensorflow.org/decision_forests\" target=\"_blank\">TensorFlow\n",
              "        Decision Forests</a> using the same algorithms but with more features and faster\n",
              "    training!\n",
              "</p>\n",
              "<div style=\"display: flex; flex-wrap: wrap; margin:5px;max-width: 880px;\">\n",
              "    <div style=\"flex: 1; border-radius: 10px; background-color: F0F0F0; padding: 5px;\">\n",
              "        <p\n",
              "            style=\"font-weight: bold; margin:0px;text-align: center;border-bottom: 1px solid #C0C0C0;margin-bottom: 4px;\">\n",
              "            Old code</p>\n",
              "        <pre style=\"overflow-wrap: anywhere; overflow: auto; margin:0px;font-size: 9pt;\">\n",
              "import tensorflow_decision_forests as tfdf\n",
              "\n",
              "tf_ds = tfdf.keras.pd_dataframe_to_tf_dataset(ds, label=\"l\")\n",
              "model = tfdf.keras.RandomForestModel(label=\"l\")\n",
              "model.fit(tf_ds)\n",
              "</pre>\n",
              "    </div>\n",
              "    <div style=\"width: 5px;\"></div>\n",
              "    <div style=\"flex: 1; border-radius: 10px; background-color: F0F0F0; padding: 5px;\">\n",
              "        <p\n",
              "            style=\"font-weight: bold; margin:0px;text-align: center;border-bottom: 1px solid #C0C0C0;margin-bottom: 4px;\">\n",
              "            New code</p>\n",
              "        <pre style=\"overflow-wrap: anywhere; overflow: auto; margin:0px;font-size: 9pt;\">\n",
              "import ydf\n",
              "\n",
              "model = ydf.RandomForestLearner(label=\"l\").train(ds)\n",
              "</pre>\n",
              "    </div>\n",
              "</div>\n",
              "<p style=\"margin:0px;font-size: 9pt;\">(Learn more in the <a\n",
              "        href=\"https://ydf.readthedocs.io/en/latest/tutorial/migrating_to_ydf/\" target=\"_blank\">migration\n",
              "        guide</a>)</p>\n"
            ]
          },
          "metadata": {}
        }
      ]
    },
    {
      "cell_type": "code",
      "source": [
        "!pip install tensorflowjs"
      ],
      "metadata": {
        "colab": {
          "base_uri": "https://localhost:8080/"
        },
        "id": "UJew_KVVDrjQ",
        "outputId": "7400aa5c-34cf-43de-a862-dfcc7e0d0fd2"
      },
      "execution_count": 1,
      "outputs": [
        {
          "output_type": "stream",
          "name": "stdout",
          "text": [
            "Collecting tensorflowjs\n",
            "  Downloading tensorflowjs-4.22.0-py3-none-any.whl.metadata (3.2 kB)\n",
            "Requirement already satisfied: flax>=0.7.2 in /usr/local/lib/python3.11/dist-packages (from tensorflowjs) (0.10.6)\n",
            "Requirement already satisfied: importlib_resources>=5.9.0 in /usr/local/lib/python3.11/dist-packages (from tensorflowjs) (6.5.2)\n",
            "Requirement already satisfied: jax>=0.4.13 in /usr/local/lib/python3.11/dist-packages (from tensorflowjs) (0.5.2)\n",
            "Requirement already satisfied: jaxlib>=0.4.13 in /usr/local/lib/python3.11/dist-packages (from tensorflowjs) (0.5.1)\n",
            "Requirement already satisfied: tensorflow<3,>=2.13.0 in /usr/local/lib/python3.11/dist-packages (from tensorflowjs) (2.18.0)\n",
            "Requirement already satisfied: tf-keras>=2.13.0 in /usr/local/lib/python3.11/dist-packages (from tensorflowjs) (2.18.0)\n",
            "Requirement already satisfied: tensorflow-decision-forests>=1.5.0 in /usr/local/lib/python3.11/dist-packages (from tensorflowjs) (1.11.0)\n",
            "Requirement already satisfied: six<2,>=1.16.0 in /usr/local/lib/python3.11/dist-packages (from tensorflowjs) (1.17.0)\n",
            "Requirement already satisfied: tensorflow-hub>=0.16.1 in /usr/local/lib/python3.11/dist-packages (from tensorflowjs) (0.16.1)\n",
            "Collecting packaging~=23.1 (from tensorflowjs)\n",
            "  Downloading packaging-23.2-py3-none-any.whl.metadata (3.2 kB)\n",
            "Requirement already satisfied: numpy>=1.23.2 in /usr/local/lib/python3.11/dist-packages (from flax>=0.7.2->tensorflowjs) (2.0.2)\n",
            "Requirement already satisfied: msgpack in /usr/local/lib/python3.11/dist-packages (from flax>=0.7.2->tensorflowjs) (1.1.0)\n",
            "Requirement already satisfied: optax in /usr/local/lib/python3.11/dist-packages (from flax>=0.7.2->tensorflowjs) (0.2.4)\n",
            "Requirement already satisfied: orbax-checkpoint in /usr/local/lib/python3.11/dist-packages (from flax>=0.7.2->tensorflowjs) (0.11.13)\n",
            "Requirement already satisfied: tensorstore in /usr/local/lib/python3.11/dist-packages (from flax>=0.7.2->tensorflowjs) (0.1.74)\n",
            "Requirement already satisfied: rich>=11.1 in /usr/local/lib/python3.11/dist-packages (from flax>=0.7.2->tensorflowjs) (13.9.4)\n",
            "Requirement already satisfied: typing_extensions>=4.2 in /usr/local/lib/python3.11/dist-packages (from flax>=0.7.2->tensorflowjs) (4.13.2)\n",
            "Requirement already satisfied: PyYAML>=5.4.1 in /usr/local/lib/python3.11/dist-packages (from flax>=0.7.2->tensorflowjs) (6.0.2)\n",
            "Requirement already satisfied: treescope>=0.1.7 in /usr/local/lib/python3.11/dist-packages (from flax>=0.7.2->tensorflowjs) (0.1.9)\n",
            "Requirement already satisfied: ml_dtypes>=0.4.0 in /usr/local/lib/python3.11/dist-packages (from jax>=0.4.13->tensorflowjs) (0.4.1)\n",
            "Requirement already satisfied: opt_einsum in /usr/local/lib/python3.11/dist-packages (from jax>=0.4.13->tensorflowjs) (3.4.0)\n",
            "Requirement already satisfied: scipy>=1.11.1 in /usr/local/lib/python3.11/dist-packages (from jax>=0.4.13->tensorflowjs) (1.15.3)\n",
            "Requirement already satisfied: absl-py>=1.0.0 in /usr/local/lib/python3.11/dist-packages (from tensorflow<3,>=2.13.0->tensorflowjs) (1.4.0)\n",
            "Requirement already satisfied: astunparse>=1.6.0 in /usr/local/lib/python3.11/dist-packages (from tensorflow<3,>=2.13.0->tensorflowjs) (1.6.3)\n",
            "Requirement already satisfied: flatbuffers>=24.3.25 in /usr/local/lib/python3.11/dist-packages (from tensorflow<3,>=2.13.0->tensorflowjs) (25.2.10)\n",
            "Requirement already satisfied: gast!=0.5.0,!=0.5.1,!=0.5.2,>=0.2.1 in /usr/local/lib/python3.11/dist-packages (from tensorflow<3,>=2.13.0->tensorflowjs) (0.6.0)\n",
            "Requirement already satisfied: google-pasta>=0.1.1 in /usr/local/lib/python3.11/dist-packages (from tensorflow<3,>=2.13.0->tensorflowjs) (0.2.0)\n",
            "Requirement already satisfied: libclang>=13.0.0 in /usr/local/lib/python3.11/dist-packages (from tensorflow<3,>=2.13.0->tensorflowjs) (18.1.1)\n",
            "Requirement already satisfied: protobuf!=4.21.0,!=4.21.1,!=4.21.2,!=4.21.3,!=4.21.4,!=4.21.5,<6.0.0dev,>=3.20.3 in /usr/local/lib/python3.11/dist-packages (from tensorflow<3,>=2.13.0->tensorflowjs) (5.29.4)\n",
            "Requirement already satisfied: requests<3,>=2.21.0 in /usr/local/lib/python3.11/dist-packages (from tensorflow<3,>=2.13.0->tensorflowjs) (2.32.3)\n",
            "Requirement already satisfied: setuptools in /usr/local/lib/python3.11/dist-packages (from tensorflow<3,>=2.13.0->tensorflowjs) (75.2.0)\n",
            "Requirement already satisfied: termcolor>=1.1.0 in /usr/local/lib/python3.11/dist-packages (from tensorflow<3,>=2.13.0->tensorflowjs) (3.1.0)\n",
            "Requirement already satisfied: wrapt>=1.11.0 in /usr/local/lib/python3.11/dist-packages (from tensorflow<3,>=2.13.0->tensorflowjs) (1.17.2)\n",
            "Requirement already satisfied: grpcio<2.0,>=1.24.3 in /usr/local/lib/python3.11/dist-packages (from tensorflow<3,>=2.13.0->tensorflowjs) (1.71.0)\n",
            "Requirement already satisfied: tensorboard<2.19,>=2.18 in /usr/local/lib/python3.11/dist-packages (from tensorflow<3,>=2.13.0->tensorflowjs) (2.18.0)\n",
            "Requirement already satisfied: keras>=3.5.0 in /usr/local/lib/python3.11/dist-packages (from tensorflow<3,>=2.13.0->tensorflowjs) (3.8.0)\n",
            "Requirement already satisfied: h5py>=3.11.0 in /usr/local/lib/python3.11/dist-packages (from tensorflow<3,>=2.13.0->tensorflowjs) (3.13.0)\n",
            "Requirement already satisfied: tensorflow-io-gcs-filesystem>=0.23.1 in /usr/local/lib/python3.11/dist-packages (from tensorflow<3,>=2.13.0->tensorflowjs) (0.37.1)\n",
            "Requirement already satisfied: pandas in /usr/local/lib/python3.11/dist-packages (from tensorflow-decision-forests>=1.5.0->tensorflowjs) (2.2.2)\n",
            "Requirement already satisfied: wheel in /usr/local/lib/python3.11/dist-packages (from tensorflow-decision-forests>=1.5.0->tensorflowjs) (0.45.1)\n",
            "Requirement already satisfied: wurlitzer in /usr/local/lib/python3.11/dist-packages (from tensorflow-decision-forests>=1.5.0->tensorflowjs) (3.1.1)\n",
            "Requirement already satisfied: ydf in /usr/local/lib/python3.11/dist-packages (from tensorflow-decision-forests>=1.5.0->tensorflowjs) (0.11.0)\n",
            "Requirement already satisfied: namex in /usr/local/lib/python3.11/dist-packages (from keras>=3.5.0->tensorflow<3,>=2.13.0->tensorflowjs) (0.0.9)\n",
            "Requirement already satisfied: optree in /usr/local/lib/python3.11/dist-packages (from keras>=3.5.0->tensorflow<3,>=2.13.0->tensorflowjs) (0.15.0)\n",
            "Requirement already satisfied: charset-normalizer<4,>=2 in /usr/local/lib/python3.11/dist-packages (from requests<3,>=2.21.0->tensorflow<3,>=2.13.0->tensorflowjs) (3.4.2)\n",
            "Requirement already satisfied: idna<4,>=2.5 in /usr/local/lib/python3.11/dist-packages (from requests<3,>=2.21.0->tensorflow<3,>=2.13.0->tensorflowjs) (3.10)\n",
            "Requirement already satisfied: urllib3<3,>=1.21.1 in /usr/local/lib/python3.11/dist-packages (from requests<3,>=2.21.0->tensorflow<3,>=2.13.0->tensorflowjs) (2.4.0)\n",
            "Requirement already satisfied: certifi>=2017.4.17 in /usr/local/lib/python3.11/dist-packages (from requests<3,>=2.21.0->tensorflow<3,>=2.13.0->tensorflowjs) (2025.4.26)\n",
            "Requirement already satisfied: markdown-it-py>=2.2.0 in /usr/local/lib/python3.11/dist-packages (from rich>=11.1->flax>=0.7.2->tensorflowjs) (3.0.0)\n",
            "Requirement already satisfied: pygments<3.0.0,>=2.13.0 in /usr/local/lib/python3.11/dist-packages (from rich>=11.1->flax>=0.7.2->tensorflowjs) (2.19.1)\n",
            "Requirement already satisfied: markdown>=2.6.8 in /usr/local/lib/python3.11/dist-packages (from tensorboard<2.19,>=2.18->tensorflow<3,>=2.13.0->tensorflowjs) (3.8)\n",
            "Requirement already satisfied: tensorboard-data-server<0.8.0,>=0.7.0 in /usr/local/lib/python3.11/dist-packages (from tensorboard<2.19,>=2.18->tensorflow<3,>=2.13.0->tensorflowjs) (0.7.2)\n",
            "Requirement already satisfied: werkzeug>=1.0.1 in /usr/local/lib/python3.11/dist-packages (from tensorboard<2.19,>=2.18->tensorflow<3,>=2.13.0->tensorflowjs) (3.1.3)\n",
            "Requirement already satisfied: chex>=0.1.87 in /usr/local/lib/python3.11/dist-packages (from optax->flax>=0.7.2->tensorflowjs) (0.1.89)\n",
            "Requirement already satisfied: etils[epy] in /usr/local/lib/python3.11/dist-packages (from optax->flax>=0.7.2->tensorflowjs) (1.12.2)\n",
            "Requirement already satisfied: nest_asyncio in /usr/local/lib/python3.11/dist-packages (from orbax-checkpoint->flax>=0.7.2->tensorflowjs) (1.6.0)\n",
            "Requirement already satisfied: humanize in /usr/local/lib/python3.11/dist-packages (from orbax-checkpoint->flax>=0.7.2->tensorflowjs) (4.12.3)\n",
            "Requirement already satisfied: simplejson>=3.16.0 in /usr/local/lib/python3.11/dist-packages (from orbax-checkpoint->flax>=0.7.2->tensorflowjs) (3.20.1)\n",
            "Requirement already satisfied: python-dateutil>=2.8.2 in /usr/local/lib/python3.11/dist-packages (from pandas->tensorflow-decision-forests>=1.5.0->tensorflowjs) (2.9.0.post0)\n",
            "Requirement already satisfied: pytz>=2020.1 in /usr/local/lib/python3.11/dist-packages (from pandas->tensorflow-decision-forests>=1.5.0->tensorflowjs) (2025.2)\n",
            "Requirement already satisfied: tzdata>=2022.7 in /usr/local/lib/python3.11/dist-packages (from pandas->tensorflow-decision-forests>=1.5.0->tensorflowjs) (2025.2)\n",
            "Requirement already satisfied: toolz>=0.9.0 in /usr/local/lib/python3.11/dist-packages (from chex>=0.1.87->optax->flax>=0.7.2->tensorflowjs) (0.12.1)\n",
            "Requirement already satisfied: mdurl~=0.1 in /usr/local/lib/python3.11/dist-packages (from markdown-it-py>=2.2.0->rich>=11.1->flax>=0.7.2->tensorflowjs) (0.1.2)\n",
            "Requirement already satisfied: MarkupSafe>=2.1.1 in /usr/local/lib/python3.11/dist-packages (from werkzeug>=1.0.1->tensorboard<2.19,>=2.18->tensorflow<3,>=2.13.0->tensorflowjs) (3.0.2)\n",
            "Requirement already satisfied: fsspec in /usr/local/lib/python3.11/dist-packages (from etils[epath,epy]->orbax-checkpoint->flax>=0.7.2->tensorflowjs) (2025.3.2)\n",
            "Requirement already satisfied: zipp in /usr/local/lib/python3.11/dist-packages (from etils[epath,epy]->orbax-checkpoint->flax>=0.7.2->tensorflowjs) (3.21.0)\n",
            "Downloading tensorflowjs-4.22.0-py3-none-any.whl (89 kB)\n",
            "\u001b[2K   \u001b[90m━━━━━━━━━━━━━━━━━━━━━━━━━━━━━━━━━━━━━━━━\u001b[0m \u001b[32m89.1/89.1 kB\u001b[0m \u001b[31m1.5 MB/s\u001b[0m eta \u001b[36m0:00:00\u001b[0m\n",
            "\u001b[?25hDownloading packaging-23.2-py3-none-any.whl (53 kB)\n",
            "\u001b[2K   \u001b[90m━━━━━━━━━━━━━━━━━━━━━━━━━━━━━━━━━━━━━━━━\u001b[0m \u001b[32m53.0/53.0 kB\u001b[0m \u001b[31m4.9 MB/s\u001b[0m eta \u001b[36m0:00:00\u001b[0m\n",
            "\u001b[?25hInstalling collected packages: packaging, tensorflowjs\n",
            "  Attempting uninstall: packaging\n",
            "    Found existing installation: packaging 24.2\n",
            "    Uninstalling packaging-24.2:\n",
            "      Successfully uninstalled packaging-24.2\n",
            "\u001b[31mERROR: pip's dependency resolver does not currently take into account all the packages that are installed. This behaviour is the source of the following dependency conflicts.\n",
            "db-dtypes 1.4.3 requires packaging>=24.2.0, but you have packaging 23.2 which is incompatible.\n",
            "google-cloud-bigquery 3.32.0 requires packaging>=24.2.0, but you have packaging 23.2 which is incompatible.\u001b[0m\u001b[31m\n",
            "\u001b[0mSuccessfully installed packaging-23.2 tensorflowjs-4.22.0\n"
          ]
        }
      ]
    },
    {
      "cell_type": "code",
      "source": [
        "# Konfigurasi akses ke Kaggle untuk mengunduh dataset\n",
        "os.makedirs(\"/root/.kaggle\", exist_ok=True)\n",
        "!mv kaggle.json /root/.kaggle/\n",
        "!chmod 600 /root/.kaggle/kaggle.json"
      ],
      "metadata": {
        "id": "ZF4LawxDDwZG"
      },
      "execution_count": 3,
      "outputs": []
    },
    {
      "cell_type": "code",
      "source": [
        "# Persiapan direktori untuk dataset\n",
        "dataset_dir = \"simpsons_dataset\"\n",
        "os.makedirs(dataset_dir, exist_ok=True)"
      ],
      "metadata": {
        "id": "kom9CUwhD1eF"
      },
      "execution_count": 4,
      "outputs": []
    },
    {
      "cell_type": "code",
      "source": [
        "# Unduh dan ekstrak dataset dari Kaggle\n",
        "os.system(f\"kaggle datasets download -d alexattia/the-simpsons-characters-dataset --unzip -p {dataset_dir}\")"
      ],
      "metadata": {
        "colab": {
          "base_uri": "https://localhost:8080/"
        },
        "id": "74OWdnb8D3qr",
        "outputId": "f9180c7f-1d08-4859-85be-cd298a944e91"
      },
      "execution_count": 5,
      "outputs": [
        {
          "output_type": "execute_result",
          "data": {
            "text/plain": [
              "0"
            ]
          },
          "metadata": {},
          "execution_count": 5
        }
      ]
    },
    {
      "cell_type": "code",
      "source": [
        "# Path ke dataset asli\n",
        "data_path = os.path.join(dataset_dir, 'simpsons_dataset')"
      ],
      "metadata": {
        "id": "Y0C_-QdBYVxj"
      },
      "execution_count": 6,
      "outputs": []
    },
    {
      "cell_type": "code",
      "source": [
        "# Hitung jumlah gambar per kelas dan pilih 3 kelas teratas\n",
        "class_counts = Counter([d for d in os.listdir(data_path) if os.path.isdir(os.path.join(data_path, d))])\n",
        "top_3_classes = [cls for cls, count in class_counts.most_common(3)]"
      ],
      "metadata": {
        "id": "x5-F1kCmXzBf"
      },
      "execution_count": 7,
      "outputs": []
    },
    {
      "cell_type": "code",
      "source": [
        "print(os.listdir('./simpsons_dataset'))"
      ],
      "metadata": {
        "colab": {
          "base_uri": "https://localhost:8080/"
        },
        "id": "O86o2hIOgF_f",
        "outputId": "5023d930-40dc-4494-8175-3f80fcd65a47"
      },
      "execution_count": 8,
      "outputs": [
        {
          "output_type": "stream",
          "name": "stdout",
          "text": [
            "['number_pic_char.csv', 'weights.best.hdf5', 'simpsons_dataset', 'characters_illustration.png', 'annotation.txt', 'kaggle_simpson_testset']\n"
          ]
        }
      ]
    },
    {
      "cell_type": "code",
      "source": [
        "# Filter dataset untuk hanya 3 kelas teratas\n",
        "filtered_data_path = 'simpsons_dataset_filtered'\n",
        "os.makedirs(filtered_data_path, exist_ok=True)\n",
        "\n",
        "for cls in top_3_classes:\n",
        "    src_dir = os.path.join(data_path, cls)\n",
        "    dst_dir = os.path.join(filtered_data_path, cls)\n",
        "    os.makedirs(dst_dir, exist_ok=True)\n",
        "    for img in os.listdir(src_dir):\n",
        "        src = os.path.abspath(os.path.join(src_dir, img))\n",
        "        dst = os.path.join(dst_dir, img)\n",
        "        if not os.path.exists(dst):\n",
        "            # Anda dapat gunakan symlink atau copy\n",
        "            try:\n",
        "                os.symlink(src, dst)\n",
        "            except OSError:\n",
        "                shutil.copy(src, dst)"
      ],
      "metadata": {
        "id": "j1hXGIkrZnJe"
      },
      "execution_count": 9,
      "outputs": []
    },
    {
      "cell_type": "code",
      "source": [
        "# Cek satu contoh symlink/file\n",
        "sample_path = os.path.join(filtered_data_path, top_3_classes[0], os.listdir(os.path.join(filtered_data_path, top_3_classes[0]))[0])\n",
        "print(f\"Sample file exists: {os.path.exists(sample_path)} (symlink: {os.path.islink(sample_path)})\")\n"
      ],
      "metadata": {
        "colab": {
          "base_uri": "https://localhost:8080/"
        },
        "id": "WEU2O3jrjVio",
        "outputId": "8b83e050-3426-4b54-9748-aca9c5d0232d"
      },
      "execution_count": 10,
      "outputs": [
        {
          "output_type": "stream",
          "name": "stdout",
          "text": [
            "Sample file exists: True (symlink: True)\n"
          ]
        }
      ]
    },
    {
      "cell_type": "code",
      "source": [
        "# Inisialisasi ImageDataGenerator untuk augmentasi dan normalisasi\n",
        "train_datagen = ImageDataGenerator(\n",
        "    rescale=1./255,\n",
        "    rotation_range=40,\n",
        "    width_shift_range=0.2,\n",
        "    height_shift_range=0.2,\n",
        "    shear_range=0.2,\n",
        "    zoom_range=0.2,\n",
        "    horizontal_flip=True,\n",
        "    fill_mode='nearest',\n",
        "    validation_split=0.2\n",
        ")\n",
        "\n",
        "test_datagen = ImageDataGenerator(rescale=1./255)"
      ],
      "metadata": {
        "id": "4lgCgLbXD54a"
      },
      "execution_count": 11,
      "outputs": []
    },
    {
      "cell_type": "code",
      "source": [
        "# Siapkan generator untuk train, validation, dan test\n",
        "generator_params = dict(\n",
        "    target_size=(150, 150),\n",
        "    batch_size=32,\n",
        "    class_mode='categorical',\n",
        "    seed=42\n",
        ")\n",
        "\n",
        "train_generator = train_datagen.flow_from_directory(\n",
        "    filtered_data_path,\n",
        "    subset='training',\n",
        "    **generator_params\n",
        ")\n",
        "\n",
        "val_generator = train_datagen.flow_from_directory(\n",
        "    filtered_data_path,\n",
        "    subset='validation',\n",
        "    **generator_params\n",
        ")\n",
        "\n",
        "test_generator = test_datagen.flow_from_directory(\n",
        "    filtered_data_path,\n",
        "    shuffle=False,\n",
        "    **generator_params\n",
        ")"
      ],
      "metadata": {
        "colab": {
          "base_uri": "https://localhost:8080/"
        },
        "id": "2wZLHiEMjaiP",
        "outputId": "f790fbc4-583b-49d3-ad14-131e3e0b3276"
      },
      "execution_count": 12,
      "outputs": [
        {
          "output_type": "stream",
          "name": "stdout",
          "text": [
            "Found 1195 images belonging to 3 classes.\n",
            "Found 297 images belonging to 3 classes.\n",
            "Found 1492 images belonging to 3 classes.\n"
          ]
        }
      ]
    },
    {
      "cell_type": "code",
      "source": [
        "# Definisi arsitektur model Sequential\n",
        "model = Sequential([\n",
        "    Conv2D(32, (3, 3), activation='relu', input_shape=(150, 150, 3)),\n",
        "    BatchNormalization(),\n",
        "    MaxPooling2D((2, 2)),\n",
        "\n",
        "    Conv2D(64, (3, 3), activation='relu'),\n",
        "    BatchNormalization(),\n",
        "    MaxPooling2D((2, 2)),\n",
        "\n",
        "    Conv2D(128, (3, 3), activation='relu'),\n",
        "    BatchNormalization(),\n",
        "    MaxPooling2D((2, 2)),\n",
        "\n",
        "    Conv2D(256, (3, 3), activation='relu'),\n",
        "    BatchNormalization(),\n",
        "    MaxPooling2D((2, 2)),\n",
        "\n",
        "    Conv2D(512, (3, 3), activation='relu'),\n",
        "    BatchNormalization(),\n",
        "    MaxPooling2D((2, 2)),\n",
        "\n",
        "    GlobalAveragePooling2D(),\n",
        "    Dense(1024, activation='relu'),\n",
        "    Dropout(0.5),\n",
        "    Dense(len(train_generator.class_indices), activation='softmax')\n",
        "])\n"
      ],
      "metadata": {
        "id": "TBThzY-mD8SP",
        "colab": {
          "base_uri": "https://localhost:8080/"
        },
        "outputId": "e5d7330d-b980-4992-a9c3-5278e34bbd00"
      },
      "execution_count": 13,
      "outputs": [
        {
          "output_type": "stream",
          "name": "stderr",
          "text": [
            "/usr/local/lib/python3.11/dist-packages/keras/src/layers/convolutional/base_conv.py:107: UserWarning: Do not pass an `input_shape`/`input_dim` argument to a layer. When using Sequential models, prefer using an `Input(shape)` object as the first layer in the model instead.\n",
            "  super().__init__(activity_regularizer=activity_regularizer, **kwargs)\n"
          ]
        }
      ]
    },
    {
      "cell_type": "code",
      "source": [
        "# Kompilasi model\n",
        "model.compile(\n",
        "    optimizer=tf.keras.optimizers.Adam(learning_rate=1e-4),\n",
        "    loss='categorical_crossentropy',\n",
        "    metrics=['accuracy']\n",
        ")\n",
        "\n",
        "# Callbacks untuk optimasi pelatihan\n",
        "callbacks = [\n",
        "    EarlyStopping(monitor='val_loss', patience=10, restore_best_weights=True),\n",
        "    ReduceLROnPlateau(monitor='val_loss', factor=0.2, patience=5, min_lr=1e-6),\n",
        "    ModelCheckpoint('best_simpsons_model.keras', monitor='val_accuracy', save_best_only=True)\n",
        "]"
      ],
      "metadata": {
        "id": "NnMSeydwD__B"
      },
      "execution_count": 14,
      "outputs": []
    },
    {
      "cell_type": "code",
      "source": [
        "# Pelatihan model\n",
        "history = model.fit(\n",
        "    train_generator,\n",
        "    validation_data=val_generator,\n",
        "    epochs=10,\n",
        "    callbacks=callbacks\n",
        ")"
      ],
      "metadata": {
        "colab": {
          "base_uri": "https://localhost:8080/"
        },
        "id": "n71LsoieN1aD",
        "outputId": "69b21714-370d-4181-c92b-f6af8d1001d6"
      },
      "execution_count": 15,
      "outputs": [
        {
          "output_type": "stream",
          "name": "stderr",
          "text": [
            "/usr/local/lib/python3.11/dist-packages/keras/src/trainers/data_adapters/py_dataset_adapter.py:121: UserWarning: Your `PyDataset` class should call `super().__init__(**kwargs)` in its constructor. `**kwargs` can include `workers`, `use_multiprocessing`, `max_queue_size`. Do not pass these arguments to `fit()`, as they will be ignored.\n",
            "  self._warn_if_super_not_called()\n"
          ]
        },
        {
          "output_type": "stream",
          "name": "stdout",
          "text": [
            "Epoch 1/10\n",
            "\u001b[1m38/38\u001b[0m \u001b[32m━━━━━━━━━━━━━━━━━━━━\u001b[0m\u001b[37m\u001b[0m \u001b[1m29s\u001b[0m 485ms/step - accuracy: 0.9252 - loss: 0.2772 - val_accuracy: 0.1313 - val_loss: 0.9632 - learning_rate: 1.0000e-04\n",
            "Epoch 2/10\n",
            "\u001b[1m38/38\u001b[0m \u001b[32m━━━━━━━━━━━━━━━━━━━━\u001b[0m\u001b[37m\u001b[0m \u001b[1m10s\u001b[0m 266ms/step - accuracy: 0.9691 - loss: 0.1338 - val_accuracy: 0.9764 - val_loss: 0.4670 - learning_rate: 1.0000e-04\n",
            "Epoch 3/10\n",
            "\u001b[1m38/38\u001b[0m \u001b[32m━━━━━━━━━━━━━━━━━━━━\u001b[0m\u001b[37m\u001b[0m \u001b[1m10s\u001b[0m 262ms/step - accuracy: 0.9744 - loss: 0.0953 - val_accuracy: 0.9764 - val_loss: 0.2803 - learning_rate: 1.0000e-04\n",
            "Epoch 4/10\n",
            "\u001b[1m38/38\u001b[0m \u001b[32m━━━━━━━━━━━━━━━━━━━━\u001b[0m\u001b[37m\u001b[0m \u001b[1m9s\u001b[0m 238ms/step - accuracy: 0.9738 - loss: 0.0977 - val_accuracy: 0.9764 - val_loss: 0.2988 - learning_rate: 1.0000e-04\n",
            "Epoch 5/10\n",
            "\u001b[1m38/38\u001b[0m \u001b[32m━━━━━━━━━━━━━━━━━━━━\u001b[0m\u001b[37m\u001b[0m \u001b[1m10s\u001b[0m 258ms/step - accuracy: 0.9881 - loss: 0.0530 - val_accuracy: 0.9764 - val_loss: 0.2349 - learning_rate: 1.0000e-04\n",
            "Epoch 6/10\n",
            "\u001b[1m38/38\u001b[0m \u001b[32m━━━━━━━━━━━━━━━━━━━━\u001b[0m\u001b[37m\u001b[0m \u001b[1m10s\u001b[0m 259ms/step - accuracy: 0.9869 - loss: 0.0596 - val_accuracy: 0.9764 - val_loss: 0.2162 - learning_rate: 1.0000e-04\n",
            "Epoch 7/10\n",
            "\u001b[1m38/38\u001b[0m \u001b[32m━━━━━━━━━━━━━━━━━━━━\u001b[0m\u001b[37m\u001b[0m \u001b[1m10s\u001b[0m 263ms/step - accuracy: 0.9862 - loss: 0.0503 - val_accuracy: 0.9764 - val_loss: 0.2509 - learning_rate: 1.0000e-04\n",
            "Epoch 8/10\n",
            "\u001b[1m38/38\u001b[0m \u001b[32m━━━━━━━━━━━━━━━━━━━━\u001b[0m\u001b[37m\u001b[0m \u001b[1m10s\u001b[0m 263ms/step - accuracy: 0.9835 - loss: 0.0659 - val_accuracy: 0.9562 - val_loss: 0.3097 - learning_rate: 1.0000e-04\n",
            "Epoch 9/10\n",
            "\u001b[1m38/38\u001b[0m \u001b[32m━━━━━━━━━━━━━━━━━━━━\u001b[0m\u001b[37m\u001b[0m \u001b[1m9s\u001b[0m 236ms/step - accuracy: 0.9845 - loss: 0.0406 - val_accuracy: 0.9764 - val_loss: 0.2619 - learning_rate: 1.0000e-04\n",
            "Epoch 10/10\n",
            "\u001b[1m38/38\u001b[0m \u001b[32m━━━━━━━━━━━━━━━━━━━━\u001b[0m\u001b[37m\u001b[0m \u001b[1m10s\u001b[0m 263ms/step - accuracy: 0.9822 - loss: 0.0425 - val_accuracy: 0.9764 - val_loss: 0.2410 - learning_rate: 1.0000e-04\n"
          ]
        }
      ]
    },
    {
      "cell_type": "code",
      "source": [
        "# Evaluasi model pada test set\n",
        "test_loss, test_accuracy = model.evaluate(test_generator)\n",
        "print(f\"Akurasi pada Test Set: {test_accuracy:.4f}\")\n"
      ],
      "metadata": {
        "colab": {
          "base_uri": "https://localhost:8080/"
        },
        "id": "VL2txMWijqVQ",
        "outputId": "aee28eb4-96a9-4745-96e9-077a107649fd"
      },
      "execution_count": 16,
      "outputs": [
        {
          "output_type": "stream",
          "name": "stdout",
          "text": [
            "\u001b[1m47/47\u001b[0m \u001b[32m━━━━━━━━━━━━━━━━━━━━\u001b[0m\u001b[37m\u001b[0m \u001b[1m3s\u001b[0m 73ms/step - accuracy: 0.9757 - loss: 0.1205\n",
            "Akurasi pada Test Set: 0.9732\n"
          ]
        }
      ]
    },
    {
      "cell_type": "code",
      "source": [
        "# Visualisasi akurasi dan loss\n",
        "plt.figure(figsize=(12, 4))\n",
        "\n",
        "# Akurasi\n",
        "plt.subplot(1, 2, 1)\n",
        "plt.plot(history.history['accuracy'], label='Akurasi Pelatihan')\n",
        "plt.plot(history.history['val_accuracy'], label='Akurasi Validasi')\n",
        "plt.title('Grafik Akurasi Model')\n",
        "plt.xlabel('Epoch')\n",
        "plt.ylabel('Akurasi')\n",
        "plt.legend()\n",
        "\n",
        "# Loss\n",
        "plt.subplot(1, 2, 2)\n",
        "plt.plot(history.history['loss'], label='Loss Pelatihan')\n",
        "plt.plot(history.history['val_loss'], label='Loss Validasi')\n",
        "plt.title('Grafik Loss Model')\n",
        "plt.xlabel('Epoch')\n",
        "plt.ylabel('Loss')\n",
        "plt.legend()\n",
        "\n",
        "plt.tight_layout()\n",
        "plt.savefig('training_metrics.png')"
      ],
      "metadata": {
        "colab": {
          "base_uri": "https://localhost:8080/",
          "height": 382
        },
        "id": "KrCUFBNBEErV",
        "outputId": "e30ea8e6-397b-48b4-c2b1-acb7ec580d2d"
      },
      "execution_count": 17,
      "outputs": [
        {
          "output_type": "display_data",
          "data": {
            "text/plain": [
              "<Figure size 1200x400 with 2 Axes>"
            ],
            "image/png": "[encoded data removed]"
          },
          "metadata": {}
        }
      ]
    },
    {
      "cell_type": "code",
      "source": [
        "# Simpan model dalam berbagai format\n",
        "model.save('simpsons_model.keras')\n",
        "model.export('saved_model_simpsons')"
      ],
      "metadata": {
        "id": "51YTPwYJEGHZ",
        "colab": {
          "base_uri": "https://localhost:8080/"
        },
        "outputId": "657771db-8f21-4646-f16b-f41596ee3288"
      },
      "execution_count": 18,
      "outputs": [
        {
          "output_type": "stream",
          "name": "stdout",
          "text": [
            "Saved artifact at 'saved_model_simpsons'. The following endpoints are available:\n",
            "\n",
            "* Endpoint 'serve'\n",
            "  args_0 (POSITIONAL_ONLY): TensorSpec(shape=(None, 150, 150, 3), dtype=tf.float32, name='keras_tensor')\n",
            "Output Type:\n",
            "  TensorSpec(shape=(None, 3), dtype=tf.float32, name=None)\n",
            "Captures:\n",
            "  136920620887568: TensorSpec(shape=(), dtype=tf.resource, name=None)\n",
            "  136920620885840: TensorSpec(shape=(), dtype=tf.resource, name=None)\n",
            "  136920621159184: TensorSpec(shape=(), dtype=tf.resource, name=None)\n",
            "  136920621159568: TensorSpec(shape=(), dtype=tf.resource, name=None)\n",
            "  136920621156304: TensorSpec(shape=(), dtype=tf.resource, name=None)\n",
            "  136920621156112: TensorSpec(shape=(), dtype=tf.resource, name=None)\n",
            "  136920621155152: TensorSpec(shape=(), dtype=tf.resource, name=None)\n",
            "  136920621160528: TensorSpec(shape=(), dtype=tf.resource, name=None)\n",
            "  136920621160912: TensorSpec(shape=(), dtype=tf.resource, name=None)\n",
            "  136920621159376: TensorSpec(shape=(), dtype=tf.resource, name=None)\n",
            "  136920621160720: TensorSpec(shape=(), dtype=tf.resource, name=None)\n",
            "  136920621156688: TensorSpec(shape=(), dtype=tf.resource, name=None)\n",
            "  136920621161680: TensorSpec(shape=(), dtype=tf.resource, name=None)\n",
            "  136920621162832: TensorSpec(shape=(), dtype=tf.resource, name=None)\n",
            "  136920621163024: TensorSpec(shape=(), dtype=tf.resource, name=None)\n",
            "  136920621161296: TensorSpec(shape=(), dtype=tf.resource, name=None)\n",
            "  136920621162448: TensorSpec(shape=(), dtype=tf.resource, name=None)\n",
            "  136920621162640: TensorSpec(shape=(), dtype=tf.resource, name=None)\n",
            "  136920621164752: TensorSpec(shape=(), dtype=tf.resource, name=None)\n",
            "  136920621166288: TensorSpec(shape=(), dtype=tf.resource, name=None)\n",
            "  136920621166480: TensorSpec(shape=(), dtype=tf.resource, name=None)\n",
            "  136920621165712: TensorSpec(shape=(), dtype=tf.resource, name=None)\n",
            "  136920621164944: TensorSpec(shape=(), dtype=tf.resource, name=None)\n",
            "  136920621166096: TensorSpec(shape=(), dtype=tf.resource, name=None)\n",
            "  136920621167248: TensorSpec(shape=(), dtype=tf.resource, name=None)\n",
            "  136920621168400: TensorSpec(shape=(), dtype=tf.resource, name=None)\n",
            "  136920621168592: TensorSpec(shape=(), dtype=tf.resource, name=None)\n",
            "  136920621166864: TensorSpec(shape=(), dtype=tf.resource, name=None)\n",
            "  136920621168016: TensorSpec(shape=(), dtype=tf.resource, name=None)\n",
            "  136920621168208: TensorSpec(shape=(), dtype=tf.resource, name=None)\n",
            "  136920621170128: TensorSpec(shape=(), dtype=tf.resource, name=None)\n",
            "  136920621170320: TensorSpec(shape=(), dtype=tf.resource, name=None)\n",
            "  136920621165520: TensorSpec(shape=(), dtype=tf.resource, name=None)\n",
            "  136920621168976: TensorSpec(shape=(), dtype=tf.resource, name=None)\n"
          ]
        }
      ]
    },
    {
      "cell_type": "code",
      "source": [
        "# Buat direktori TF-Lite jika belum ada\n",
        "os.makedirs('tflite', exist_ok=True)\n"
      ],
      "metadata": {
        "id": "WewywzqQEIqL"
      },
      "execution_count": 19,
      "outputs": []
    },
    {
      "cell_type": "code",
      "source": [
        "# Konversi dan simpan TF-Lite\n",
        "converter = tf.lite.TFLiteConverter.from_keras_model(model)\n",
        "with open('tflite/simpsons_model.tflite', 'wb') as f:\n",
        "    f.write(converter.convert())"
      ],
      "metadata": {
        "id": "8WcEYB7kEKMz",
        "colab": {
          "base_uri": "https://localhost:8080/"
        },
        "outputId": "5ff547af-7cd1-4684-ad15-ce980003e507"
      },
      "execution_count": 20,
      "outputs": [
        {
          "output_type": "stream",
          "name": "stdout",
          "text": [
            "Saved artifact at '/tmp/tmpp8hle250'. The following endpoints are available:\n",
            "\n",
            "* Endpoint 'serve'\n",
            "  args_0 (POSITIONAL_ONLY): TensorSpec(shape=(None, 150, 150, 3), dtype=tf.float32, name='keras_tensor')\n",
            "Output Type:\n",
            "  TensorSpec(shape=(None, 3), dtype=tf.float32, name=None)\n",
            "Captures:\n",
            "  136920620887568: TensorSpec(shape=(), dtype=tf.resource, name=None)\n",
            "  136920620885840: TensorSpec(shape=(), dtype=tf.resource, name=None)\n",
            "  136920621159184: TensorSpec(shape=(), dtype=tf.resource, name=None)\n",
            "  136920621159568: TensorSpec(shape=(), dtype=tf.resource, name=None)\n",
            "  136920621156304: TensorSpec(shape=(), dtype=tf.resource, name=None)\n",
            "  136920621156112: TensorSpec(shape=(), dtype=tf.resource, name=None)\n",
            "  136920621155152: TensorSpec(shape=(), dtype=tf.resource, name=None)\n",
            "  136920621160528: TensorSpec(shape=(), dtype=tf.resource, name=None)\n",
            "  136920621160912: TensorSpec(shape=(), dtype=tf.resource, name=None)\n",
            "  136920621159376: TensorSpec(shape=(), dtype=tf.resource, name=None)\n",
            "  136920621160720: TensorSpec(shape=(), dtype=tf.resource, name=None)\n",
            "  136920621156688: TensorSpec(shape=(), dtype=tf.resource, name=None)\n",
            "  136920621161680: TensorSpec(shape=(), dtype=tf.resource, name=None)\n",
            "  136920621162832: TensorSpec(shape=(), dtype=tf.resource, name=None)\n",
            "  136920621163024: TensorSpec(shape=(), dtype=tf.resource, name=None)\n",
            "  136920621161296: TensorSpec(shape=(), dtype=tf.resource, name=None)\n",
            "  136920621162448: TensorSpec(shape=(), dtype=tf.resource, name=None)\n",
            "  136920621162640: TensorSpec(shape=(), dtype=tf.resource, name=None)\n",
            "  136920621164752: TensorSpec(shape=(), dtype=tf.resource, name=None)\n",
            "  136920621166288: TensorSpec(shape=(), dtype=tf.resource, name=None)\n",
            "  136920621166480: TensorSpec(shape=(), dtype=tf.resource, name=None)\n",
            "  136920621165712: TensorSpec(shape=(), dtype=tf.resource, name=None)\n",
            "  136920621164944: TensorSpec(shape=(), dtype=tf.resource, name=None)\n",
            "  136920621166096: TensorSpec(shape=(), dtype=tf.resource, name=None)\n",
            "  136920621167248: TensorSpec(shape=(), dtype=tf.resource, name=None)\n",
            "  136920621168400: TensorSpec(shape=(), dtype=tf.resource, name=None)\n",
            "  136920621168592: TensorSpec(shape=(), dtype=tf.resource, name=None)\n",
            "  136920621166864: TensorSpec(shape=(), dtype=tf.resource, name=None)\n",
            "  136920621168016: TensorSpec(shape=(), dtype=tf.resource, name=None)\n",
            "  136920621168208: TensorSpec(shape=(), dtype=tf.resource, name=None)\n",
            "  136920621170128: TensorSpec(shape=(), dtype=tf.resource, name=None)\n",
            "  136920621170320: TensorSpec(shape=(), dtype=tf.resource, name=None)\n",
            "  136920621165520: TensorSpec(shape=(), dtype=tf.resource, name=None)\n",
            "  136920621168976: TensorSpec(shape=(), dtype=tf.resource, name=None)\n"
          ]
        }
      ]
    },
    {
      "cell_type": "code",
      "source": [
        "# Simpan label kelas\n",
        "tf_lite_labels_path = os.path.join('tflite', 'labels.txt')\n",
        "with open(tf_lite_labels_path, 'w') as f:\n",
        "    f.write(\"\\n\".join(list(train_generator.class_indices.keys())))"
      ],
      "metadata": {
        "id": "WPQVD8fdnj64"
      },
      "execution_count": 21,
      "outputs": []
    },
    {
      "cell_type": "code",
      "source": [
        "# Simpan untuk TFJS\n",
        "tfjs.converters.save_keras_model(model, 'tfjs_simpsons_model')"
      ],
      "metadata": {
        "id": "Xkil4cTyELjy",
        "colab": {
          "base_uri": "https://localhost:8080/"
        },
        "outputId": "d618fc14-6526-4675-bac1-273c561b75f7"
      },
      "execution_count": 22,
      "outputs": [
        {
          "output_type": "stream",
          "name": "stderr",
          "text": [
            "WARNING:absl:You are saving your model as an HDF5 file via `model.save()` or `keras.saving.save_model(model)`. This file format is considered legacy. We recommend using instead the native Keras format, e.g. `model.save('my_model.keras')` or `keras.saving.save_model(model, 'my_model.keras')`. \n"
          ]
        },
        {
          "output_type": "stream",
          "name": "stdout",
          "text": [
            "failed to lookup keras version from the file,\n",
            "    this is likely a weight only file\n"
          ]
        }
      ]
    },
    {
      "cell_type": "code",
      "source": [
        "# Buat requirements.txt\n",
        "with open('requirements.txt', 'w') as f:\n",
        "    f.write(\"tensorflow==2.18.0\\n\")\n",
        "    f.write(\"tensorflowjs==4.22.0\\n\")\n",
        "    f.write(\"matplotlib==3.9.2\\n\")\n",
        "    f.write(\"numpy==1.26.4\\n\")\n"
      ],
      "metadata": {
        "id": "E3Ncspe6EMzR"
      },
      "execution_count": 23,
      "outputs": []
    }
  ],
  "metadata": {
    "accelerator": "GPU",
    "colab": {
      "gpuType": "T4",
      "provenance": []
    },
    "kernelspec": {
      "display_name": "Python 3",
      "name": "python3"
    },
    "language_info": {
      "name": "python"
    }
  },
  "nbformat": 4,
  "nbformat_minor": 0
}