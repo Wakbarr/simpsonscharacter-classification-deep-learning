{
  "cells": [
    {
      "cell_type": "markdown",
      "source": [
        "# Proyek Klasifikasi Gambar : The Simpsons Characters Data\n",
        "\n",
        "- **Nama:** Akbar Widianto\n",
        "- **Email:** wdntoakbar@gmail.com\n",
        "- **ID Dicoding:** wakbarr"
      ],
      "metadata": {
        "id": "CBTE5Bf1c4v8"
      }
    },
    {
      "cell_type": "markdown",
      "source": [
        "## Import semua pakage / Library yang digunakan"
      ],
      "metadata": {
        "id": "TDp-FACudU9C"
      }
    },
    {
      "cell_type": "code",
      "execution_count": null,
      "metadata": {
        "colab": {
          "base_uri": "https://localhost:8080/"
        },
        "id": "2Rt4aOjKE6Zc",
        "outputId": "9ece6a2b-4ba3-4ed4-9de8-4c9eb0236c8e"
      },
      "outputs": [
        {
          "output_type": "stream",
          "name": "stdout",
          "text": [
            "Collecting tensorflowjs\n",
            "  Downloading tensorflowjs-4.22.0-py3-none-any.whl.metadata (3.2 kB)\n",
            "Requirement already satisfied: flax>=0.7.2 in /usr/local/lib/python3.11/dist-packages (from tensorflowjs) (0.10.6)\n",
            "Requirement already satisfied: importlib_resources>=5.9.0 in /usr/local/lib/python3.11/dist-packages (from tensorflowjs) (6.5.2)\n",
            "Requirement already satisfied: jax>=0.4.13 in /usr/local/lib/python3.11/dist-packages (from tensorflowjs) (0.5.2)\n",
            "Requirement already satisfied: jaxlib>=0.4.13 in /usr/local/lib/python3.11/dist-packages (from tensorflowjs) (0.5.1)\n",
            "Requirement already satisfied: tensorflow<3,>=2.13.0 in /usr/local/lib/python3.11/dist-packages (from tensorflowjs) (2.18.0)\n",
            "Requirement already satisfied: tf-keras>=2.13.0 in /usr/local/lib/python3.11/dist-packages (from tensorflowjs) (2.18.0)\n",
            "Requirement already satisfied: tensorflow-decision-forests>=1.5.0 in /usr/local/lib/python3.11/dist-packages (from tensorflowjs) (1.11.0)\n",
            "Requirement already satisfied: six<2,>=1.16.0 in /usr/local/lib/python3.11/dist-packages (from tensorflowjs) (1.17.0)\n",
            "Requirement already satisfied: tensorflow-hub>=0.16.1 in /usr/local/lib/python3.11/dist-packages (from tensorflowjs) (0.16.1)\n",
            "Collecting packaging~=23.1 (from tensorflowjs)\n",
            "  Downloading packaging-23.2-py3-none-any.whl.metadata (3.2 kB)\n",
            "Requirement already satisfied: numpy>=1.23.2 in /usr/local/lib/python3.11/dist-packages (from flax>=0.7.2->tensorflowjs) (2.0.2)\n",
            "Requirement already satisfied: msgpack in /usr/local/lib/python3.11/dist-packages (from flax>=0.7.2->tensorflowjs) (1.1.0)\n",
            "Requirement already satisfied: optax in /usr/local/lib/python3.11/dist-packages (from flax>=0.7.2->tensorflowjs) (0.2.4)\n",
            "Requirement already satisfied: orbax-checkpoint in /usr/local/lib/python3.11/dist-packages (from flax>=0.7.2->tensorflowjs) (0.11.12)\n",
            "Requirement already satisfied: tensorstore in /usr/local/lib/python3.11/dist-packages (from flax>=0.7.2->tensorflowjs) (0.1.74)\n",
            "Requirement already satisfied: rich>=11.1 in /usr/local/lib/python3.11/dist-packages (from flax>=0.7.2->tensorflowjs) (13.9.4)\n",
            "Requirement already satisfied: typing_extensions>=4.2 in /usr/local/lib/python3.11/dist-packages (from flax>=0.7.2->tensorflowjs) (4.13.2)\n",
            "Requirement already satisfied: PyYAML>=5.4.1 in /usr/local/lib/python3.11/dist-packages (from flax>=0.7.2->tensorflowjs) (6.0.2)\n",
            "Requirement already satisfied: treescope>=0.1.7 in /usr/local/lib/python3.11/dist-packages (from flax>=0.7.2->tensorflowjs) (0.1.9)\n",
            "Requirement already satisfied: ml_dtypes>=0.4.0 in /usr/local/lib/python3.11/dist-packages (from jax>=0.4.13->tensorflowjs) (0.4.1)\n",
            "Requirement already satisfied: opt_einsum in /usr/local/lib/python3.11/dist-packages (from jax>=0.4.13->tensorflowjs) (3.4.0)\n",
            "Requirement already satisfied: scipy>=1.11.1 in /usr/local/lib/python3.11/dist-packages (from jax>=0.4.13->tensorflowjs) (1.15.2)\n",
            "Requirement already satisfied: absl-py>=1.0.0 in /usr/local/lib/python3.11/dist-packages (from tensorflow<3,>=2.13.0->tensorflowjs) (1.4.0)\n",
            "Requirement already satisfied: astunparse>=1.6.0 in /usr/local/lib/python3.11/dist-packages (from tensorflow<3,>=2.13.0->tensorflowjs) (1.6.3)\n",
            "Requirement already satisfied: flatbuffers>=24.3.25 in /usr/local/lib/python3.11/dist-packages (from tensorflow<3,>=2.13.0->tensorflowjs) (25.2.10)\n",
            "Requirement already satisfied: gast!=0.5.0,!=0.5.1,!=0.5.2,>=0.2.1 in /usr/local/lib/python3.11/dist-packages (from tensorflow<3,>=2.13.0->tensorflowjs) (0.6.0)\n",
            "Requirement already satisfied: google-pasta>=0.1.1 in /usr/local/lib/python3.11/dist-packages (from tensorflow<3,>=2.13.0->tensorflowjs) (0.2.0)\n",
            "Requirement already satisfied: libclang>=13.0.0 in /usr/local/lib/python3.11/dist-packages (from tensorflow<3,>=2.13.0->tensorflowjs) (18.1.1)\n",
            "Requirement already satisfied: protobuf!=4.21.0,!=4.21.1,!=4.21.2,!=4.21.3,!=4.21.4,!=4.21.5,<6.0.0dev,>=3.20.3 in /usr/local/lib/python3.11/dist-packages (from tensorflow<3,>=2.13.0->tensorflowjs) (5.29.4)\n",
            "Requirement already satisfied: requests<3,>=2.21.0 in /usr/local/lib/python3.11/dist-packages (from tensorflow<3,>=2.13.0->tensorflowjs) (2.32.3)\n",
            "Requirement already satisfied: setuptools in /usr/local/lib/python3.11/dist-packages (from tensorflow<3,>=2.13.0->tensorflowjs) (75.2.0)\n",
            "Requirement already satisfied: termcolor>=1.1.0 in /usr/local/lib/python3.11/dist-packages (from tensorflow<3,>=2.13.0->tensorflowjs) (3.0.1)\n",
            "Requirement already satisfied: wrapt>=1.11.0 in /usr/local/lib/python3.11/dist-packages (from tensorflow<3,>=2.13.0->tensorflowjs) (1.17.2)\n",
            "Requirement already satisfied: grpcio<2.0,>=1.24.3 in /usr/local/lib/python3.11/dist-packages (from tensorflow<3,>=2.13.0->tensorflowjs) (1.71.0)\n",
            "Requirement already satisfied: tensorboard<2.19,>=2.18 in /usr/local/lib/python3.11/dist-packages (from tensorflow<3,>=2.13.0->tensorflowjs) (2.18.0)\n",
            "Requirement already satisfied: keras>=3.5.0 in /usr/local/lib/python3.11/dist-packages (from tensorflow<3,>=2.13.0->tensorflowjs) (3.8.0)\n",
            "Requirement already satisfied: h5py>=3.11.0 in /usr/local/lib/python3.11/dist-packages (from tensorflow<3,>=2.13.0->tensorflowjs) (3.13.0)\n",
            "Requirement already satisfied: tensorflow-io-gcs-filesystem>=0.23.1 in /usr/local/lib/python3.11/dist-packages (from tensorflow<3,>=2.13.0->tensorflowjs) (0.37.1)\n",
            "Requirement already satisfied: pandas in /usr/local/lib/python3.11/dist-packages (from tensorflow-decision-forests>=1.5.0->tensorflowjs) (2.2.2)\n",
            "Requirement already satisfied: wheel in /usr/local/lib/python3.11/dist-packages (from tensorflow-decision-forests>=1.5.0->tensorflowjs) (0.45.1)\n",
            "Requirement already satisfied: wurlitzer in /usr/local/lib/python3.11/dist-packages (from tensorflow-decision-forests>=1.5.0->tensorflowjs) (3.1.1)\n",
            "Requirement already satisfied: ydf in /usr/local/lib/python3.11/dist-packages (from tensorflow-decision-forests>=1.5.0->tensorflowjs) (0.11.0)\n",
            "Requirement already satisfied: namex in /usr/local/lib/python3.11/dist-packages (from keras>=3.5.0->tensorflow<3,>=2.13.0->tensorflowjs) (0.0.9)\n",
            "Requirement already satisfied: optree in /usr/local/lib/python3.11/dist-packages (from keras>=3.5.0->tensorflow<3,>=2.13.0->tensorflowjs) (0.15.0)\n",
            "Requirement already satisfied: charset-normalizer<4,>=2 in /usr/local/lib/python3.11/dist-packages (from requests<3,>=2.21.0->tensorflow<3,>=2.13.0->tensorflowjs) (3.4.1)\n",
            "Requirement already satisfied: idna<4,>=2.5 in /usr/local/lib/python3.11/dist-packages (from requests<3,>=2.21.0->tensorflow<3,>=2.13.0->tensorflowjs) (3.10)\n",
            "Requirement already satisfied: urllib3<3,>=1.21.1 in /usr/local/lib/python3.11/dist-packages (from requests<3,>=2.21.0->tensorflow<3,>=2.13.0->tensorflowjs) (2.4.0)\n",
            "Requirement already satisfied: certifi>=2017.4.17 in /usr/local/lib/python3.11/dist-packages (from requests<3,>=2.21.0->tensorflow<3,>=2.13.0->tensorflowjs) (2025.1.31)\n",
            "Requirement already satisfied: markdown-it-py>=2.2.0 in /usr/local/lib/python3.11/dist-packages (from rich>=11.1->flax>=0.7.2->tensorflowjs) (3.0.0)\n",
            "Requirement already satisfied: pygments<3.0.0,>=2.13.0 in /usr/local/lib/python3.11/dist-packages (from rich>=11.1->flax>=0.7.2->tensorflowjs) (2.19.1)\n",
            "Requirement already satisfied: markdown>=2.6.8 in /usr/local/lib/python3.11/dist-packages (from tensorboard<2.19,>=2.18->tensorflow<3,>=2.13.0->tensorflowjs) (3.8)\n",
            "Requirement already satisfied: tensorboard-data-server<0.8.0,>=0.7.0 in /usr/local/lib/python3.11/dist-packages (from tensorboard<2.19,>=2.18->tensorflow<3,>=2.13.0->tensorflowjs) (0.7.2)\n",
            "Requirement already satisfied: werkzeug>=1.0.1 in /usr/local/lib/python3.11/dist-packages (from tensorboard<2.19,>=2.18->tensorflow<3,>=2.13.0->tensorflowjs) (3.1.3)\n",
            "Requirement already satisfied: chex>=0.1.87 in /usr/local/lib/python3.11/dist-packages (from optax->flax>=0.7.2->tensorflowjs) (0.1.89)\n",
            "Requirement already satisfied: etils[epy] in /usr/local/lib/python3.11/dist-packages (from optax->flax>=0.7.2->tensorflowjs) (1.12.2)\n",
            "Requirement already satisfied: nest_asyncio in /usr/local/lib/python3.11/dist-packages (from orbax-checkpoint->flax>=0.7.2->tensorflowjs) (1.6.0)\n",
            "Requirement already satisfied: humanize in /usr/local/lib/python3.11/dist-packages (from orbax-checkpoint->flax>=0.7.2->tensorflowjs) (4.12.2)\n",
            "Requirement already satisfied: simplejson>=3.16.0 in /usr/local/lib/python3.11/dist-packages (from orbax-checkpoint->flax>=0.7.2->tensorflowjs) (3.20.1)\n",
            "Requirement already satisfied: python-dateutil>=2.8.2 in /usr/local/lib/python3.11/dist-packages (from pandas->tensorflow-decision-forests>=1.5.0->tensorflowjs) (2.9.0.post0)\n",
            "Requirement already satisfied: pytz>=2020.1 in /usr/local/lib/python3.11/dist-packages (from pandas->tensorflow-decision-forests>=1.5.0->tensorflowjs) (2025.2)\n",
            "Requirement already satisfied: tzdata>=2022.7 in /usr/local/lib/python3.11/dist-packages (from pandas->tensorflow-decision-forests>=1.5.0->tensorflowjs) (2025.2)\n",
            "Requirement already satisfied: toolz>=0.9.0 in /usr/local/lib/python3.11/dist-packages (from chex>=0.1.87->optax->flax>=0.7.2->tensorflowjs) (0.12.1)\n",
            "Requirement already satisfied: mdurl~=0.1 in /usr/local/lib/python3.11/dist-packages (from markdown-it-py>=2.2.0->rich>=11.1->flax>=0.7.2->tensorflowjs) (0.1.2)\n",
            "Requirement already satisfied: MarkupSafe>=2.1.1 in /usr/local/lib/python3.11/dist-packages (from werkzeug>=1.0.1->tensorboard<2.19,>=2.18->tensorflow<3,>=2.13.0->tensorflowjs) (3.0.2)\n",
            "Requirement already satisfied: fsspec in /usr/local/lib/python3.11/dist-packages (from etils[epath,epy]->orbax-checkpoint->flax>=0.7.2->tensorflowjs) (2025.3.2)\n",
            "Requirement already satisfied: zipp in /usr/local/lib/python3.11/dist-packages (from etils[epath,epy]->orbax-checkpoint->flax>=0.7.2->tensorflowjs) (3.21.0)\n",
            "Downloading tensorflowjs-4.22.0-py3-none-any.whl (89 kB)\n",
            "\u001b[2K   \u001b[90m━━━━━━━━━━━━━━━━━━━━━━━━━━━━━━━━━━━━━━━━\u001b[0m \u001b[32m89.1/89.1 kB\u001b[0m \u001b[31m2.9 MB/s\u001b[0m eta \u001b[36m0:00:00\u001b[0m\n",
            "\u001b[?25hDownloading packaging-23.2-py3-none-any.whl (53 kB)\n",
            "\u001b[2K   \u001b[90m━━━━━━━━━━━━━━━━━━━━━━━━━━━━━━━━━━━━━━━━\u001b[0m \u001b[32m53.0/53.0 kB\u001b[0m \u001b[31m3.7 MB/s\u001b[0m eta \u001b[36m0:00:00\u001b[0m\n",
            "\u001b[?25hInstalling collected packages: packaging, tensorflowjs\n",
            "  Attempting uninstall: packaging\n",
            "    Found existing installation: packaging 24.2\n",
            "    Uninstalling packaging-24.2:\n",
            "      Successfully uninstalled packaging-24.2\n",
            "\u001b[31mERROR: pip's dependency resolver does not currently take into account all the packages that are installed. This behaviour is the source of the following dependency conflicts.\n",
            "google-cloud-bigquery 3.31.0 requires packaging>=24.2.0, but you have packaging 23.2 which is incompatible.\u001b[0m\u001b[31m\n",
            "\u001b[0mSuccessfully installed packaging-23.2 tensorflowjs-4.22.0\n"
          ]
        }
      ],
      "source": [
        "!pip install tensorflowjs"
      ]
    },
    {
      "cell_type": "code",
      "execution_count": null,
      "metadata": {
        "id": "UucrZLMjDU94",
        "colab": {
          "base_uri": "https://localhost:8080/",
          "height": 166
        },
        "outputId": "938de401-b5fc-4cef-97a9-b8d969719316"
      },
      "outputs": [
        {
          "output_type": "display_data",
          "data": {
            "text/plain": [
              "<IPython.core.display.HTML object>"
            ],
            "text/html": [
              "\n",
              "<p style=\"margin:0px;\">🌲 Try <a href=\"https://ydf.readthedocs.io/en/latest/\" target=\"_blank\">YDF</a>, the successor of\n",
              "    <a href=\"https://www.tensorflow.org/decision_forests\" target=\"_blank\">TensorFlow\n",
              "        Decision Forests</a> using the same algorithms but with more features and faster\n",
              "    training!\n",
              "</p>\n",
              "<div style=\"display: flex; flex-wrap: wrap; margin:5px;max-width: 880px;\">\n",
              "    <div style=\"flex: 1; border-radius: 10px; background-color: F0F0F0; padding: 5px;\">\n",
              "        <p\n",
              "            style=\"font-weight: bold; margin:0px;text-align: center;border-bottom: 1px solid #C0C0C0;margin-bottom: 4px;\">\n",
              "            Old code</p>\n",
              "        <pre style=\"overflow-wrap: anywhere; overflow: auto; margin:0px;font-size: 9pt;\">\n",
              "import tensorflow_decision_forests as tfdf\n",
              "\n",
              "tf_ds = tfdf.keras.pd_dataframe_to_tf_dataset(ds, label=\"l\")\n",
              "model = tfdf.keras.RandomForestModel(label=\"l\")\n",
              "model.fit(tf_ds)\n",
              "</pre>\n",
              "    </div>\n",
              "    <div style=\"width: 5px;\"></div>\n",
              "    <div style=\"flex: 1; border-radius: 10px; background-color: F0F0F0; padding: 5px;\">\n",
              "        <p\n",
              "            style=\"font-weight: bold; margin:0px;text-align: center;border-bottom: 1px solid #C0C0C0;margin-bottom: 4px;\">\n",
              "            New code</p>\n",
              "        <pre style=\"overflow-wrap: anywhere; overflow: auto; margin:0px;font-size: 9pt;\">\n",
              "import ydf\n",
              "\n",
              "model = ydf.RandomForestLearner(label=\"l\").train(ds)\n",
              "</pre>\n",
              "    </div>\n",
              "</div>\n",
              "<p style=\"margin:0px;font-size: 9pt;\">(Learn more in the <a\n",
              "        href=\"https://ydf.readthedocs.io/en/latest/tutorial/migrating_to_ydf/\" target=\"_blank\">migration\n",
              "        guide</a>)</p>\n"
            ]
          },
          "metadata": {}
        }
      ],
      "source": [
        "import tensorflow as tf\n",
        "import tensorflowjs as tfjs\n",
        "import matplotlib.pyplot as plt\n",
        "from tensorflow.keras.preprocessing.image import ImageDataGenerator\n",
        "from tensorflow.keras.models import Sequential\n",
        "from tensorflow.keras.layers import Conv2D, MaxPooling2D, Flatten, Dense, Dropout, BatchNormalization, GlobalAveragePooling2D\n",
        "from tensorflow.keras.callbacks import EarlyStopping, ModelCheckpoint, ReduceLROnPlateau\n",
        "import os"
      ]
    },
    {
      "cell_type": "markdown",
      "source": [
        "# Download dataset dari Kaggle"
      ],
      "metadata": {
        "id": "52odXOKTH-UY"
      }
    },
    {
      "cell_type": "code",
      "execution_count": null,
      "metadata": {
        "colab": {
          "base_uri": "https://localhost:8080/"
        },
        "id": "7sC20-oZFOXT",
        "outputId": "c3a8dd5a-e170-4ada-fdff-81b8362d7f4b"
      },
      "outputs": [
        {
          "output_type": "execute_result",
          "data": {
            "text/plain": [
              "0"
            ]
          },
          "metadata": {},
          "execution_count": 3
        }
      ],
      "source": [
        "os.system(\"kaggle datasets download -d alexattia/the-simpsons-characters-dataset --unzip -p dataset_path\")"
      ]
    },
    {
      "cell_type": "markdown",
      "source": [
        "# Definisikan ImageDataGenerator untuk augmentasi dan normalisasi data"
      ],
      "metadata": {
        "id": "-DvMeuaHIIdP"
      }
    },
    {
      "cell_type": "code",
      "execution_count": null,
      "metadata": {
        "id": "e-kgh2h4FPQl"
      },
      "outputs": [],
      "source": [
        "train_datagen = ImageDataGenerator(\n",
        "    rescale=1./255,\n",
        "    rotation_range=40,\n",
        "    width_shift_range=0.2,\n",
        "    height_shift_range=0.2,\n",
        "    shear_range=0.2,\n",
        "    zoom_range=0.2,\n",
        "    horizontal_flip=True,\n",
        "    brightness_range=[0.8,1.2],\n",
        "    channel_shift_range=0.2,\n",
        "    fill_mode='nearest',\n",
        "    validation_split=0.1\n",
        ")\n",
        "\n",
        "test_datagen = ImageDataGenerator(rescale=1./255)"
      ]
    },
    {
      "cell_type": "markdown",
      "source": [
        "# Siapkan data train, validation, dan test"
      ],
      "metadata": {
        "id": "dkBSPyfrIbG6"
      }
    },
    {
      "cell_type": "code",
      "execution_count": null,
      "metadata": {
        "colab": {
          "base_uri": "https://localhost:8080/"
        },
        "id": "dw7hqygwXOMt",
        "outputId": "b85fc677-674d-4a6f-d6f5-fb25fd772641"
      },
      "outputs": [
        {
          "output_type": "stream",
          "name": "stdout",
          "text": [
            "Found 38571 images belonging to 2 classes.\n",
            "Found 4285 images belonging to 2 classes.\n",
            "Found 42856 images belonging to 2 classes.\n"
          ]
        }
      ],
      "source": [
        "train_data = train_datagen.flow_from_directory(\n",
        "    'dataset_path',\n",
        "    target_size=(128, 128),\n",
        "    batch_size=32,\n",
        "    class_mode='categorical',\n",
        "    subset='training'\n",
        ")\n",
        "\n",
        "val_data = train_datagen.flow_from_directory(\n",
        "    'dataset_path',\n",
        "    target_size=(128, 128),\n",
        "    batch_size=32,\n",
        "    class_mode='categorical',\n",
        "    subset='validation'\n",
        ")\n",
        "\n",
        "test_data = test_datagen.flow_from_directory(\n",
        "    'dataset_path',\n",
        "    target_size=(128, 128),\n",
        "    batch_size=32,\n",
        "    class_mode='categorical'\n",
        ")"
      ]
    },
    {
      "cell_type": "markdown",
      "source": [
        "# Bangun model Sequential dengan Conv2D dan Pooling Layer"
      ],
      "metadata": {
        "id": "1Ct-1k0jIfby"
      }
    },
    {
      "cell_type": "code",
      "execution_count": null,
      "metadata": {
        "id": "Hx5Z-GleFmBU",
        "colab": {
          "base_uri": "https://localhost:8080/"
        },
        "outputId": "e3697789-00a7-4807-b248-d815b5d70776"
      },
      "outputs": [
        {
          "output_type": "stream",
          "name": "stderr",
          "text": [
            "/usr/local/lib/python3.11/dist-packages/keras/src/layers/convolutional/base_conv.py:107: UserWarning: Do not pass an `input_shape`/`input_dim` argument to a layer. When using Sequential models, prefer using an `Input(shape)` object as the first layer in the model instead.\n",
            "  super().__init__(activity_regularizer=activity_regularizer, **kwargs)\n"
          ]
        }
      ],
      "source": [
        "model = Sequential([\n",
        "    Conv2D(32, (3,3), activation='relu', input_shape=(128, 128, 3)),\n",
        "    BatchNormalization(),\n",
        "    MaxPooling2D(2,2),\n",
        "\n",
        "    Conv2D(64, (3,3), activation='relu'),\n",
        "    BatchNormalization(),\n",
        "    MaxPooling2D(2,2),\n",
        "\n",
        "    Conv2D(128, (3,3), activation='relu'),\n",
        "    BatchNormalization(),\n",
        "    MaxPooling2D(2,2),\n",
        "\n",
        "    Conv2D(256, (3,3), activation='relu'),\n",
        "    BatchNormalization(),\n",
        "    MaxPooling2D(2,2),\n",
        "\n",
        "    GlobalAveragePooling2D(),\n",
        "    Dense(512, activation='relu'),\n",
        "    Dropout(0.5),\n",
        "    Dense(len(train_data.class_indices), activation='softmax')\n",
        "])"
      ]
    },
    {
      "cell_type": "markdown",
      "source": [
        "# Compile model dengan optimizer Adam"
      ],
      "metadata": {
        "id": "hr7uHRqQIois"
      }
    },
    {
      "cell_type": "code",
      "execution_count": null,
      "metadata": {
        "id": "ZiQUVwA2HhnN"
      },
      "outputs": [],
      "source": [
        "model.compile(loss='categorical_crossentropy', optimizer=tf.keras.optimizers.Adam(learning_rate=0.0001), metrics=['accuracy'])"
      ]
    },
    {
      "cell_type": "markdown",
      "source": [
        "# Definisikan callbacks untuk pelatihan"
      ],
      "metadata": {
        "id": "N9AT98KUIri8"
      }
    },
    {
      "cell_type": "code",
      "execution_count": null,
      "metadata": {
        "id": "QFGS9_HaSp47"
      },
      "outputs": [],
      "source": [
        "early_stopping = EarlyStopping(monitor='val_loss', patience=5, restore_best_weights=True)\n",
        "reduce_lr = ReduceLROnPlateau(monitor='val_loss', factor=0.2, patience=3, min_lr=1e-6)\n",
        "model_checkpoint = ModelCheckpoint('best_model.keras', save_best_only=True, monitor='val_accuracy')"
      ]
    },
    {
      "cell_type": "markdown",
      "source": [
        "# Latih model"
      ],
      "metadata": {
        "id": "OfSeTdLPIx9L"
      }
    },
    {
      "cell_type": "code",
      "execution_count": null,
      "metadata": {
        "colab": {
          "base_uri": "https://localhost:8080/"
        },
        "id": "HwcR_unVHlWt",
        "outputId": "1f24ca8c-75f8-4522-ef1d-94f51b51c009"
      },
      "outputs": [
        {
          "output_type": "stream",
          "name": "stderr",
          "text": [
            "/usr/local/lib/python3.11/dist-packages/keras/src/trainers/data_adapters/py_dataset_adapter.py:121: UserWarning: Your `PyDataset` class should call `super().__init__(**kwargs)` in its constructor. `**kwargs` can include `workers`, `use_multiprocessing`, `max_queue_size`. Do not pass these arguments to `fit()`, as they will be ignored.\n",
            "  self._warn_if_super_not_called()\n"
          ]
        },
        {
          "output_type": "stream",
          "name": "stdout",
          "text": [
            "Epoch 1/50\n",
            "\u001b[1m1206/1206\u001b[0m \u001b[32m━━━━━━━━━━━━━━━━━━━━\u001b[0m\u001b[37m\u001b[0m \u001b[1m295s\u001b[0m 237ms/step - accuracy: 0.9742 - loss: 0.1252 - val_accuracy: 0.9769 - val_loss: 0.1018 - learning_rate: 1.0000e-04\n",
            "Epoch 2/50\n",
            "\u001b[1m1206/1206\u001b[0m \u001b[32m━━━━━━━━━━━━━━━━━━━━\u001b[0m\u001b[37m\u001b[0m \u001b[1m258s\u001b[0m 214ms/step - accuracy: 0.9785 - loss: 0.1000 - val_accuracy: 0.9769 - val_loss: 0.1000 - learning_rate: 1.0000e-04\n",
            "Epoch 3/50\n",
            "\u001b[1m1206/1206\u001b[0m \u001b[32m━━━━━━━━━━━━━━━━━━━━\u001b[0m\u001b[37m\u001b[0m \u001b[1m256s\u001b[0m 212ms/step - accuracy: 0.9772 - loss: 0.0989 - val_accuracy: 0.9769 - val_loss: 0.0996 - learning_rate: 1.0000e-04\n",
            "Epoch 4/50\n",
            "\u001b[1m1206/1206\u001b[0m \u001b[32m━━━━━━━━━━━━━━━━━━━━\u001b[0m\u001b[37m\u001b[0m \u001b[1m257s\u001b[0m 213ms/step - accuracy: 0.9767 - loss: 0.0980 - val_accuracy: 0.9769 - val_loss: 0.0993 - learning_rate: 1.0000e-04\n",
            "Epoch 5/50\n",
            "\u001b[1m1206/1206\u001b[0m \u001b[32m━━━━━━━━━━━━━━━━━━━━\u001b[0m\u001b[37m\u001b[0m \u001b[1m257s\u001b[0m 213ms/step - accuracy: 0.9769 - loss: 0.0937 - val_accuracy: 0.9769 - val_loss: 0.0960 - learning_rate: 1.0000e-04\n",
            "Epoch 6/50\n",
            "\u001b[1m1206/1206\u001b[0m \u001b[32m━━━━━━━━━━━━━━━━━━━━\u001b[0m\u001b[37m\u001b[0m \u001b[1m258s\u001b[0m 214ms/step - accuracy: 0.9769 - loss: 0.0917 - val_accuracy: 0.9769 - val_loss: 0.1058 - learning_rate: 1.0000e-04\n",
            "Epoch 7/50\n",
            "\u001b[1m1206/1206\u001b[0m \u001b[32m━━━━━━━━━━━━━━━━━━━━\u001b[0m\u001b[37m\u001b[0m \u001b[1m259s\u001b[0m 215ms/step - accuracy: 0.9785 - loss: 0.0837 - val_accuracy: 0.9769 - val_loss: 0.0974 - learning_rate: 1.0000e-04\n",
            "Epoch 8/50\n",
            "\u001b[1m1206/1206\u001b[0m \u001b[32m━━━━━━━━━━━━━━━━━━━━\u001b[0m\u001b[37m\u001b[0m \u001b[1m259s\u001b[0m 215ms/step - accuracy: 0.9771 - loss: 0.0876 - val_accuracy: 0.9769 - val_loss: 0.0838 - learning_rate: 1.0000e-04\n",
            "Epoch 9/50\n",
            "\u001b[1m1206/1206\u001b[0m \u001b[32m━━━━━━━━━━━━━━━━━━━━\u001b[0m\u001b[37m\u001b[0m \u001b[1m260s\u001b[0m 215ms/step - accuracy: 0.9767 - loss: 0.0851 - val_accuracy: 0.9769 - val_loss: 0.0863 - learning_rate: 1.0000e-04\n",
            "Epoch 10/50\n",
            "\u001b[1m1206/1206\u001b[0m \u001b[32m━━━━━━━━━━━━━━━━━━━━\u001b[0m\u001b[37m\u001b[0m \u001b[1m263s\u001b[0m 218ms/step - accuracy: 0.9763 - loss: 0.0861 - val_accuracy: 0.9757 - val_loss: 0.0893 - learning_rate: 1.0000e-04\n",
            "Epoch 11/50\n",
            "\u001b[1m1206/1206\u001b[0m \u001b[32m━━━━━━━━━━━━━━━━━━━━\u001b[0m\u001b[37m\u001b[0m \u001b[1m275s\u001b[0m 228ms/step - accuracy: 0.9778 - loss: 0.0816 - val_accuracy: 0.9767 - val_loss: 0.0825 - learning_rate: 1.0000e-04\n",
            "Epoch 12/50\n",
            "\u001b[1m1206/1206\u001b[0m \u001b[32m━━━━━━━━━━━━━━━━━━━━\u001b[0m\u001b[37m\u001b[0m \u001b[1m307s\u001b[0m 216ms/step - accuracy: 0.9771 - loss: 0.0780 - val_accuracy: 0.9678 - val_loss: 0.1061 - learning_rate: 1.0000e-04\n",
            "Epoch 13/50\n",
            "\u001b[1m1206/1206\u001b[0m \u001b[32m━━━━━━━━━━━━━━━━━━━━\u001b[0m\u001b[37m\u001b[0m \u001b[1m256s\u001b[0m 213ms/step - accuracy: 0.9763 - loss: 0.0827 - val_accuracy: 0.9734 - val_loss: 0.0925 - learning_rate: 1.0000e-04\n",
            "Epoch 14/50\n",
            "\u001b[1m1206/1206\u001b[0m \u001b[32m━━━━━━━━━━━━━━━━━━━━\u001b[0m\u001b[37m\u001b[0m \u001b[1m257s\u001b[0m 213ms/step - accuracy: 0.9784 - loss: 0.0727 - val_accuracy: 0.9771 - val_loss: 0.0870 - learning_rate: 1.0000e-04\n",
            "Epoch 15/50\n",
            "\u001b[1m1206/1206\u001b[0m \u001b[32m━━━━━━━━━━━━━━━━━━━━\u001b[0m\u001b[37m\u001b[0m \u001b[1m258s\u001b[0m 214ms/step - accuracy: 0.9790 - loss: 0.0714 - val_accuracy: 0.9732 - val_loss: 0.0882 - learning_rate: 2.0000e-05\n",
            "Epoch 16/50\n",
            "\u001b[1m1206/1206\u001b[0m \u001b[32m━━━━━━━━━━━━━━━━━━━━\u001b[0m\u001b[37m\u001b[0m \u001b[1m285s\u001b[0m 236ms/step - accuracy: 0.9797 - loss: 0.0685 - val_accuracy: 0.9781 - val_loss: 0.0708 - learning_rate: 2.0000e-05\n",
            "Epoch 17/50\n",
            "\u001b[1m1206/1206\u001b[0m \u001b[32m━━━━━━━━━━━━━━━━━━━━\u001b[0m\u001b[37m\u001b[0m \u001b[1m259s\u001b[0m 215ms/step - accuracy: 0.9801 - loss: 0.0649 - val_accuracy: 0.9790 - val_loss: 0.0724 - learning_rate: 2.0000e-05\n",
            "Epoch 18/50\n",
            "\u001b[1m1206/1206\u001b[0m \u001b[32m━━━━━━━━━━━━━━━━━━━━\u001b[0m\u001b[37m\u001b[0m \u001b[1m259s\u001b[0m 215ms/step - accuracy: 0.9812 - loss: 0.0614 - val_accuracy: 0.9799 - val_loss: 0.0711 - learning_rate: 2.0000e-05\n",
            "Epoch 19/50\n",
            "\u001b[1m1206/1206\u001b[0m \u001b[32m━━━━━━━━━━━━━━━━━━━━\u001b[0m\u001b[37m\u001b[0m \u001b[1m258s\u001b[0m 214ms/step - accuracy: 0.9815 - loss: 0.0610 - val_accuracy: 0.9788 - val_loss: 0.0702 - learning_rate: 2.0000e-05\n",
            "Epoch 20/50\n",
            "\u001b[1m1206/1206\u001b[0m \u001b[32m━━━━━━━━━━━━━━━━━━━━\u001b[0m\u001b[37m\u001b[0m \u001b[1m257s\u001b[0m 213ms/step - accuracy: 0.9816 - loss: 0.0612 - val_accuracy: 0.9792 - val_loss: 0.0693 - learning_rate: 2.0000e-05\n",
            "Epoch 21/50\n",
            "\u001b[1m1206/1206\u001b[0m \u001b[32m━━━━━━━━━━━━━━━━━━━━\u001b[0m\u001b[37m\u001b[0m \u001b[1m255s\u001b[0m 212ms/step - accuracy: 0.9801 - loss: 0.0667 - val_accuracy: 0.9776 - val_loss: 0.0736 - learning_rate: 2.0000e-05\n",
            "Epoch 22/50\n",
            "\u001b[1m1206/1206\u001b[0m \u001b[32m━━━━━━━━━━━━━━━━━━━━\u001b[0m\u001b[37m\u001b[0m \u001b[1m257s\u001b[0m 213ms/step - accuracy: 0.9813 - loss: 0.0581 - val_accuracy: 0.9788 - val_loss: 0.0746 - learning_rate: 2.0000e-05\n",
            "Epoch 23/50\n",
            "\u001b[1m1206/1206\u001b[0m \u001b[32m━━━━━━━━━━━━━━━━━━━━\u001b[0m\u001b[37m\u001b[0m \u001b[1m258s\u001b[0m 214ms/step - accuracy: 0.9809 - loss: 0.0579 - val_accuracy: 0.9781 - val_loss: 0.0777 - learning_rate: 2.0000e-05\n",
            "Epoch 24/50\n",
            "\u001b[1m1206/1206\u001b[0m \u001b[32m━━━━━━━━━━━━━━━━━━━━\u001b[0m\u001b[37m\u001b[0m \u001b[1m259s\u001b[0m 215ms/step - accuracy: 0.9809 - loss: 0.0595 - val_accuracy: 0.9788 - val_loss: 0.0760 - learning_rate: 4.0000e-06\n",
            "Epoch 25/50\n",
            "\u001b[1m1206/1206\u001b[0m \u001b[32m━━━━━━━━━━━━━━━━━━━━\u001b[0m\u001b[37m\u001b[0m \u001b[1m259s\u001b[0m 215ms/step - accuracy: 0.9820 - loss: 0.0586 - val_accuracy: 0.9797 - val_loss: 0.0692 - learning_rate: 4.0000e-06\n",
            "Epoch 26/50\n",
            "\u001b[1m1206/1206\u001b[0m \u001b[32m━━━━━━━━━━━━━━━━━━━━\u001b[0m\u001b[37m\u001b[0m \u001b[1m261s\u001b[0m 216ms/step - accuracy: 0.9812 - loss: 0.0594 - val_accuracy: 0.9797 - val_loss: 0.0724 - learning_rate: 4.0000e-06\n",
            "Epoch 27/50\n",
            "\u001b[1m1206/1206\u001b[0m \u001b[32m━━━━━━━━━━━━━━━━━━━━\u001b[0m\u001b[37m\u001b[0m \u001b[1m257s\u001b[0m 213ms/step - accuracy: 0.9826 - loss: 0.0556 - val_accuracy: 0.9802 - val_loss: 0.0666 - learning_rate: 1.0000e-06\n",
            "Epoch 28/50\n",
            "\u001b[1m1206/1206\u001b[0m \u001b[32m━━━━━━━━━━━━━━━━━━━━\u001b[0m\u001b[37m\u001b[0m \u001b[1m256s\u001b[0m 213ms/step - accuracy: 0.9829 - loss: 0.0538 - val_accuracy: 0.9785 - val_loss: 0.0704 - learning_rate: 1.0000e-06\n",
            "Epoch 29/50\n",
            "\u001b[1m1206/1206\u001b[0m \u001b[32m━━━━━━━━━━━━━━━━━━━━\u001b[0m\u001b[37m\u001b[0m \u001b[1m256s\u001b[0m 212ms/step - accuracy: 0.9824 - loss: 0.0554 - val_accuracy: 0.9802 - val_loss: 0.0658 - learning_rate: 1.0000e-06\n",
            "Epoch 30/50\n",
            "\u001b[1m1206/1206\u001b[0m \u001b[32m━━━━━━━━━━━━━━━━━━━━\u001b[0m\u001b[37m\u001b[0m \u001b[1m262s\u001b[0m 212ms/step - accuracy: 0.9822 - loss: 0.0571 - val_accuracy: 0.9790 - val_loss: 0.0695 - learning_rate: 1.0000e-06\n",
            "Epoch 31/50\n",
            "\u001b[1m1206/1206\u001b[0m \u001b[32m━━━━━━━━━━━━━━━━━━━━\u001b[0m\u001b[37m\u001b[0m \u001b[1m255s\u001b[0m 211ms/step - accuracy: 0.9825 - loss: 0.0554 - val_accuracy: 0.9795 - val_loss: 0.0694 - learning_rate: 1.0000e-06\n",
            "Epoch 32/50\n",
            "\u001b[1m1206/1206\u001b[0m \u001b[32m━━━━━━━━━━━━━━━━━━━━\u001b[0m\u001b[37m\u001b[0m \u001b[1m255s\u001b[0m 211ms/step - accuracy: 0.9816 - loss: 0.0592 - val_accuracy: 0.9809 - val_loss: 0.0659 - learning_rate: 1.0000e-06\n",
            "Epoch 33/50\n",
            "\u001b[1m1206/1206\u001b[0m \u001b[32m━━━━━━━━━━━━━━━━━━━━\u001b[0m\u001b[37m\u001b[0m \u001b[1m256s\u001b[0m 212ms/step - accuracy: 0.9811 - loss: 0.0583 - val_accuracy: 0.9806 - val_loss: 0.0670 - learning_rate: 1.0000e-06\n",
            "Epoch 34/50\n",
            "\u001b[1m1206/1206\u001b[0m \u001b[32m━━━━━━━━━━━━━━━━━━━━\u001b[0m\u001b[37m\u001b[0m \u001b[1m256s\u001b[0m 212ms/step - accuracy: 0.9823 - loss: 0.0550 - val_accuracy: 0.9792 - val_loss: 0.0697 - learning_rate: 1.0000e-06\n"
          ]
        }
      ],
      "source": [
        "history = model.fit(\n",
        "    train_data,\n",
        "    validation_data=val_data,\n",
        "    epochs=50,\n",
        "    batch_size=32,\n",
        "    callbacks=[early_stopping, reduce_lr, model_checkpoint]\n",
        ")"
      ]
    },
    {
      "cell_type": "code",
      "execution_count": null,
      "metadata": {
        "id": "pINq9OL8HoN-"
      },
      "outputs": [],
      "source": [
        "early_stopping = tf.keras.callbacks.EarlyStopping(monitor='val_loss', patience=5, restore_best_weights=True)"
      ]
    },
    {
      "cell_type": "markdown",
      "source": [
        "# Evaluasi model pada test set"
      ],
      "metadata": {
        "id": "qN0jX3wSI3C8"
      }
    },
    {
      "cell_type": "code",
      "execution_count": null,
      "metadata": {
        "id": "6z5a2nQbHqNP",
        "colab": {
          "base_uri": "https://localhost:8080/"
        },
        "outputId": "c1ae9d32-1dcb-4582-ebdc-3ef5a3a1e230"
      },
      "outputs": [
        {
          "output_type": "stream",
          "name": "stdout",
          "text": [
            "\u001b[1m1340/1340\u001b[0m \u001b[32m━━━━━━━━━━━━━━━━━━━━\u001b[0m\u001b[37m\u001b[0m \u001b[1m64s\u001b[0m 48ms/step - accuracy: 0.9797 - loss: 0.1076\n",
            "Test Accuracy: 0.9787\n"
          ]
        }
      ],
      "source": [
        "test_loss, test_acc = model.evaluate(test_data)\n",
        "print(f'Test Accuracy: {test_acc:.4f}')"
      ]
    },
    {
      "cell_type": "markdown",
      "source": [
        "# Plot akurasi dan loss"
      ],
      "metadata": {
        "id": "quLAM8ZGI67V"
      }
    },
    {
      "cell_type": "code",
      "execution_count": null,
      "metadata": {
        "id": "jsO3QRb0WQNW",
        "colab": {
          "base_uri": "https://localhost:8080/",
          "height": 468
        },
        "outputId": "607ca098-fb7d-47fd-8fca-ac2a080a9084"
      },
      "outputs": [
        {
          "output_type": "display_data",
          "data": {
            "text/plain": [
              "<Figure size 1200x500 with 2 Axes>"
            ],
            "image/png": "[encoded data removed]"
          },
          "metadata": {}
        }
      ],
      "source": [
        "plt.figure(figsize=(12,5))\n",
        "plt.subplot(1,2,1)\n",
        "plt.plot(history.history['accuracy'], label='Train Accuracy')\n",
        "plt.plot(history.history['val_accuracy'], label='Validation Accuracy')\n",
        "plt.legend()\n",
        "plt.title('Akurasi Model')\n",
        "\n",
        "plt.subplot(1,2,2)\n",
        "plt.plot(history.history['loss'], label='Train Loss')\n",
        "plt.plot(history.history['val_loss'], label='Validation Loss')\n",
        "plt.legend()\n",
        "plt.title('Loss Model')\n",
        "plt.show()"
      ]
    },
    {
      "cell_type": "code",
      "execution_count": null,
      "metadata": {
        "id": "okdjCY9GWQpL",
        "colab": {
          "base_uri": "https://localhost:8080/"
        },
        "outputId": "6e2c6151-3236-4eb5-b1c1-66924f76f57c"
      },
      "outputs": [
        {
          "output_type": "stream",
          "name": "stdout",
          "text": [
            "Saved artifact at '/tmp/tmprv7lj31d'. The following endpoints are available:\n",
            "\n",
            "* Endpoint 'serve'\n",
            "  args_0 (POSITIONAL_ONLY): TensorSpec(shape=(None, 128, 128, 3), dtype=tf.float32, name='keras_tensor')\n",
            "Output Type:\n",
            "  TensorSpec(shape=(None, 2), dtype=tf.float32, name=None)\n",
            "Captures:\n",
            "  133584609319376: TensorSpec(shape=(), dtype=tf.resource, name=None)\n",
            "  133584609323984: TensorSpec(shape=(), dtype=tf.resource, name=None)\n",
            "  133584609324368: TensorSpec(shape=(), dtype=tf.resource, name=None)\n",
            "  133584609323792: TensorSpec(shape=(), dtype=tf.resource, name=None)\n",
            "  133584609322448: TensorSpec(shape=(), dtype=tf.resource, name=None)\n",
            "  133584609322832: TensorSpec(shape=(), dtype=tf.resource, name=None)\n",
            "  133584609323600: TensorSpec(shape=(), dtype=tf.resource, name=None)\n",
            "  133584609325520: TensorSpec(shape=(), dtype=tf.resource, name=None)\n",
            "  133584609325904: TensorSpec(shape=(), dtype=tf.resource, name=None)\n",
            "  133584609324176: TensorSpec(shape=(), dtype=tf.resource, name=None)\n",
            "  133584609325712: TensorSpec(shape=(), dtype=tf.resource, name=None)\n",
            "  133584609325136: TensorSpec(shape=(), dtype=tf.resource, name=None)\n",
            "  133584609326672: TensorSpec(shape=(), dtype=tf.resource, name=None)\n",
            "  133584609327824: TensorSpec(shape=(), dtype=tf.resource, name=None)\n",
            "  133584609328016: TensorSpec(shape=(), dtype=tf.resource, name=None)\n",
            "  133584609328784: TensorSpec(shape=(), dtype=tf.resource, name=None)\n",
            "  133584609327440: TensorSpec(shape=(), dtype=tf.resource, name=None)\n",
            "  133584609327632: TensorSpec(shape=(), dtype=tf.resource, name=None)\n",
            "  133584595485328: TensorSpec(shape=(), dtype=tf.resource, name=None)\n",
            "  133584595486864: TensorSpec(shape=(), dtype=tf.resource, name=None)\n",
            "  133584595487056: TensorSpec(shape=(), dtype=tf.resource, name=None)\n",
            "  133584595486288: TensorSpec(shape=(), dtype=tf.resource, name=None)\n",
            "  133584595485520: TensorSpec(shape=(), dtype=tf.resource, name=None)\n",
            "  133584595486672: TensorSpec(shape=(), dtype=tf.resource, name=None)\n",
            "  133584595488592: TensorSpec(shape=(), dtype=tf.resource, name=None)\n",
            "  133584595489168: TensorSpec(shape=(), dtype=tf.resource, name=None)\n",
            "  133584595488976: TensorSpec(shape=(), dtype=tf.resource, name=None)\n",
            "  133584595489744: TensorSpec(shape=(), dtype=tf.resource, name=None)\n"
          ]
        },
        {
          "output_type": "stream",
          "name": "stderr",
          "text": [
            "WARNING:absl:You are saving your model as an HDF5 file via `model.save()` or `keras.saving.save_model(model)`. This file format is considered legacy. We recommend using instead the native Keras format, e.g. `model.save('my_model.keras')` or `keras.saving.save_model(model, 'my_model.keras')`. \n"
          ]
        },
        {
          "output_type": "stream",
          "name": "stdout",
          "text": [
            "failed to lookup keras version from the file,\n",
            "    this is likely a weight only file\n"
          ]
        }
      ],
      "source": [
        "model.save('simpsons_model.keras')\n",
        "converter = tf.lite.TFLiteConverter.from_keras_model(model)\n",
        "tflite_model = converter.convert()\n",
        "with open('simpsons_model.tflite', 'wb') as f:\n",
        "    f.write(tflite_model)\n",
        "\n",
        "tfjs.converters.save_keras_model(model, 'simpsons_model_tfjs')\n"
      ]
    },
    {
      "cell_type": "markdown",
      "source": [
        "# Simpan model dalam format .keras"
      ],
      "metadata": {
        "id": "Bpvuv5CGI-d9"
      }
    },
    {
      "cell_type": "code",
      "source": [
        "model.save(\"model_saved.keras\")"
      ],
      "metadata": {
        "id": "DRrOw8feXui9"
      },
      "execution_count": null,
      "outputs": []
    },
    {
      "cell_type": "markdown",
      "source": [
        "# Simpan model dalam format SavedModel"
      ],
      "metadata": {
        "id": "l29Ck5dRJAkN"
      }
    },
    {
      "cell_type": "code",
      "source": [
        "model_files = [\"model_saved.h5\", \"model_saved.keras\"]\n",
        "\n",
        "model_path = None\n",
        "for file in model_files:\n",
        "    if os.path.exists(file):\n",
        "        model_path = file\n",
        "        break\n",
        "\n",
        "if model_path:\n",
        "    try:\n",
        "        model = tf.keras.models.load_model(model_path)\n",
        "\n",
        "        saved_model_dir = \"saved_model\"\n",
        "        model.export(saved_model_dir)\n",
        "\n",
        "        print(f\"Model berhasil dikonversi dan disimpan di '{saved_model_dir}/'\")\n",
        "    except Exception as e:\n",
        "        print(f\"Terjadi kesalahan saat memuat atau menyimpan model: {e}\")\n",
        "else:\n",
        "    print(\"File model tidak ditemukan. Pastikan ada file .h5 atau .keras dalam direktori.\")\n"
      ],
      "metadata": {
        "colab": {
          "base_uri": "https://localhost:8080/"
        },
        "id": "YKPpkXXqXu_Z",
        "outputId": "98c40f08-73a7-4828-b84d-78d75f3aad43"
      },
      "execution_count": null,
      "outputs": [
        {
          "output_type": "stream",
          "name": "stderr",
          "text": [
            "WARNING:absl:Compiled the loaded model, but the compiled metrics have yet to be built. `model.compile_metrics` will be empty until you train or evaluate the model.\n"
          ]
        },
        {
          "output_type": "stream",
          "name": "stdout",
          "text": [
            "Saved artifact at 'saved_model'. The following endpoints are available:\n",
            "\n",
            "* Endpoint 'serve'\n",
            "  args_0 (POSITIONAL_ONLY): TensorSpec(shape=(None, 128, 128, 3), dtype=tf.float32, name='input_layer')\n",
            "Output Type:\n",
            "  TensorSpec(shape=(None, 2), dtype=tf.float32, name=None)\n",
            "Captures:\n",
            "  133582176906768: TensorSpec(shape=(), dtype=tf.resource, name=None)\n",
            "  133582176907536: TensorSpec(shape=(), dtype=tf.resource, name=None)\n",
            "  133582176905232: TensorSpec(shape=(), dtype=tf.resource, name=None)\n",
            "  133582176908112: TensorSpec(shape=(), dtype=tf.resource, name=None)\n",
            "  133582176902736: TensorSpec(shape=(), dtype=tf.resource, name=None)\n",
            "  133582176907344: TensorSpec(shape=(), dtype=tf.resource, name=None)\n",
            "  133582176908496: TensorSpec(shape=(), dtype=tf.resource, name=None)\n",
            "  133582176909840: TensorSpec(shape=(), dtype=tf.resource, name=None)\n",
            "  133582176909264: TensorSpec(shape=(), dtype=tf.resource, name=None)\n",
            "  133582176910416: TensorSpec(shape=(), dtype=tf.resource, name=None)\n",
            "  133582176909072: TensorSpec(shape=(), dtype=tf.resource, name=None)\n",
            "  133582176909648: TensorSpec(shape=(), dtype=tf.resource, name=None)\n",
            "  133582176909456: TensorSpec(shape=(), dtype=tf.resource, name=None)\n",
            "  133582176911184: TensorSpec(shape=(), dtype=tf.resource, name=None)\n",
            "  133582175944976: TensorSpec(shape=(), dtype=tf.resource, name=None)\n",
            "  133582175946128: TensorSpec(shape=(), dtype=tf.resource, name=None)\n",
            "  133582176910800: TensorSpec(shape=(), dtype=tf.resource, name=None)\n",
            "  133582175945936: TensorSpec(shape=(), dtype=tf.resource, name=None)\n",
            "  133582175947280: TensorSpec(shape=(), dtype=tf.resource, name=None)\n",
            "  133582175948048: TensorSpec(shape=(), dtype=tf.resource, name=None)\n",
            "  133582175945744: TensorSpec(shape=(), dtype=tf.resource, name=None)\n",
            "  133582175948624: TensorSpec(shape=(), dtype=tf.resource, name=None)\n",
            "  133582175946512: TensorSpec(shape=(), dtype=tf.resource, name=None)\n",
            "  133582175947856: TensorSpec(shape=(), dtype=tf.resource, name=None)\n",
            "  133582175949008: TensorSpec(shape=(), dtype=tf.resource, name=None)\n",
            "  133582175950352: TensorSpec(shape=(), dtype=tf.resource, name=None)\n",
            "  133582175948432: TensorSpec(shape=(), dtype=tf.resource, name=None)\n",
            "  133582175951888: TensorSpec(shape=(), dtype=tf.resource, name=None)\n",
            "Model berhasil dikonversi dan disimpan di 'saved_model/'\n"
          ]
        }
      ]
    },
    {
      "cell_type": "markdown",
      "source": [
        "# Simpan model dalam format TF-Lite"
      ],
      "metadata": {
        "id": "eHVgpLuzJDyQ"
      }
    },
    {
      "cell_type": "code",
      "source": [
        "converter = tf.lite.TFLiteConverter.from_keras_model(model)\n",
        "tflite_model = converter.convert()\n",
        "\n",
        "os.makedirs(\"tflite\", exist_ok=True)\n",
        "with open(\"tflite/model.tflite\", \"wb\") as f:\n",
        "    f.write(tflite_model)\n",
        "\n",
        "print(\"Model berhasil dikonversi ke TFLite dan disimpan di 'tflite/model.tflite'\")\n"
      ],
      "metadata": {
        "colab": {
          "base_uri": "https://localhost:8080/"
        },
        "id": "IsaqRDWUcL2K",
        "outputId": "e4dd36ee-3d93-45d3-f1bc-869798f8eb5c"
      },
      "execution_count": null,
      "outputs": [
        {
          "output_type": "stream",
          "name": "stdout",
          "text": [
            "Saved artifact at '/tmp/tmpg1lexd4f'. The following endpoints are available:\n",
            "\n",
            "* Endpoint 'serve'\n",
            "  args_0 (POSITIONAL_ONLY): TensorSpec(shape=(None, 128, 128, 3), dtype=tf.float32, name='input_layer')\n",
            "Output Type:\n",
            "  TensorSpec(shape=(None, 2), dtype=tf.float32, name=None)\n",
            "Captures:\n",
            "  133582176906768: TensorSpec(shape=(), dtype=tf.resource, name=None)\n",
            "  133582176907536: TensorSpec(shape=(), dtype=tf.resource, name=None)\n",
            "  133582176905232: TensorSpec(shape=(), dtype=tf.resource, name=None)\n",
            "  133582176908112: TensorSpec(shape=(), dtype=tf.resource, name=None)\n",
            "  133582176902736: TensorSpec(shape=(), dtype=tf.resource, name=None)\n",
            "  133582176907344: TensorSpec(shape=(), dtype=tf.resource, name=None)\n",
            "  133582176908496: TensorSpec(shape=(), dtype=tf.resource, name=None)\n",
            "  133582176909840: TensorSpec(shape=(), dtype=tf.resource, name=None)\n",
            "  133582176909264: TensorSpec(shape=(), dtype=tf.resource, name=None)\n",
            "  133582176910416: TensorSpec(shape=(), dtype=tf.resource, name=None)\n",
            "  133582176909072: TensorSpec(shape=(), dtype=tf.resource, name=None)\n",
            "  133582176909648: TensorSpec(shape=(), dtype=tf.resource, name=None)\n",
            "  133582176909456: TensorSpec(shape=(), dtype=tf.resource, name=None)\n",
            "  133582176911184: TensorSpec(shape=(), dtype=tf.resource, name=None)\n",
            "  133582175944976: TensorSpec(shape=(), dtype=tf.resource, name=None)\n",
            "  133582175946128: TensorSpec(shape=(), dtype=tf.resource, name=None)\n",
            "  133582176910800: TensorSpec(shape=(), dtype=tf.resource, name=None)\n",
            "  133582175945936: TensorSpec(shape=(), dtype=tf.resource, name=None)\n",
            "  133582175947280: TensorSpec(shape=(), dtype=tf.resource, name=None)\n",
            "  133582175948048: TensorSpec(shape=(), dtype=tf.resource, name=None)\n",
            "  133582175945744: TensorSpec(shape=(), dtype=tf.resource, name=None)\n",
            "  133582175948624: TensorSpec(shape=(), dtype=tf.resource, name=None)\n",
            "  133582175946512: TensorSpec(shape=(), dtype=tf.resource, name=None)\n",
            "  133582175947856: TensorSpec(shape=(), dtype=tf.resource, name=None)\n",
            "  133582175949008: TensorSpec(shape=(), dtype=tf.resource, name=None)\n",
            "  133582175950352: TensorSpec(shape=(), dtype=tf.resource, name=None)\n",
            "  133582175948432: TensorSpec(shape=(), dtype=tf.resource, name=None)\n",
            "  133582175951888: TensorSpec(shape=(), dtype=tf.resource, name=None)\n",
            "Model berhasil dikonversi ke TFLite dan disimpan di 'tflite/model.tflite'\n"
          ]
        }
      ]
    },
    {
      "cell_type": "markdown",
      "source": [
        "# Simpan label ke file label.txt"
      ],
      "metadata": {
        "id": "WU-kZOo4JIGQ"
      }
    },
    {
      "cell_type": "code",
      "source": [
        "labels = [\"Class1\", \"Class2\", \"Class3\"]\n",
        "with open(\"tflite/label.txt\", \"w\") as f:\n",
        "    f.write(\"\\n\".join(labels))\n",
        "\n",
        "print(\"Label berhasil disimpan di 'tflite/label.txt'\")\n"
      ],
      "metadata": {
        "colab": {
          "base_uri": "https://localhost:8080/"
        },
        "id": "GyG_MrhYcSGu",
        "outputId": "44cffeeb-452c-4269-f5cd-d2494f2af628"
      },
      "execution_count": null,
      "outputs": [
        {
          "output_type": "stream",
          "name": "stdout",
          "text": [
            "Label berhasil disimpan di 'tflite/label.txt'\n"
          ]
        }
      ]
    },
    {
      "cell_type": "markdown",
      "source": [
        "# Simpan model dalam format TFJS"
      ],
      "metadata": {
        "id": "Yiso0LuXJLIY"
      }
    },
    {
      "cell_type": "code",
      "source": [
        "tfjs.converters.save_keras_model(model, 'tfjs_model')\n",
        "print(\"Model berhasil disimpan dalam format TFJS di 'tfjs_model/'\")"
      ],
      "metadata": {
        "id": "X_rVbX9wJN8g"
      },
      "execution_count": null,
      "outputs": []
    },
    {
      "cell_type": "markdown",
      "source": [
        "# Buat file requirements.txt"
      ],
      "metadata": {
        "id": "d4PGrdkGJP84"
      }
    },
    {
      "cell_type": "code",
      "source": [
        "with open(\"requirements.txt\", \"w\") as f:\n",
        "    f.write(\"tensorflow==2.18.0\\n\")\n",
        "    f.write(\"tensorflowjs==4.22.0\\n\")\n",
        "    f.write(\"matplotlib==3.9.2\\n\")\n",
        "    f.write(\"numpy==1.26.4\\n\")\n",
        "print(\"File requirements.txt berhasil dibuat\")"
      ],
      "metadata": {
        "id": "Es2RncV7JRWY"
      },
      "execution_count": null,
      "outputs": []
    }
  ],
  "metadata": {
    "accelerator": "GPU",
    "colab": {
      "gpuType": "T4",
      "provenance": []
    },
    "kernelspec": {
      "display_name": "Python 3",
      "name": "python3"
    },
    "language_info": {
      "name": "python"
    }
  },
  "nbformat": 4,
  "nbformat_minor": 0
}